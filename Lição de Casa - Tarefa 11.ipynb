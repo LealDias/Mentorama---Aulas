{
  "cells": [
    {
      "cell_type": "markdown",
      "metadata": {
        "id": "view-in-github",
        "colab_type": "text"
      },
      "source": [
        "<a href=\"https://colab.research.google.com/github/LealDias/Mentorama---Aulas/blob/master/Li%C3%A7%C3%A3o%20de%20Casa%20-%20Tarefa%2011.ipynb\" target=\"_parent\"><img src=\"https://colab.research.google.com/assets/colab-badge.svg\" alt=\"Open In Colab\"/></a>"
      ]
    },
    {
      "cell_type": "markdown",
      "metadata": {
        "id": "h4hs2_2wHtiC"
      },
      "source": [
        "# PARTE 1"
      ]
    },
    {
      "cell_type": "markdown",
      "source": [
        "# Importação das Bibliotecas para Uso no Projeto"
      ],
      "metadata": {
        "id": "medREnns8Rlk"
      }
    },
    {
      "cell_type": "code",
      "execution_count": 29,
      "metadata": {
        "id": "Zh55xEotHtiH"
      },
      "outputs": [],
      "source": [
        "# Importação das bibliotecas\n",
        "import matplotlib.pyplot as plt\n",
        "from keras.models import Sequential\n",
        "from keras.layers import Dense, Dropout, Input\n",
        "from keras.utils import np_utils\n",
        "import numpy as np\n",
        "from sklearn.metrics import confusion_matrix, plot_confusion_matrix\n",
        "from sklearn import metrics\n",
        "from keras.datasets import mnist\n",
        "#pip install tensorflow (executar no Anaconda Prompt)"
      ]
    },
    {
      "cell_type": "code",
      "execution_count": 2,
      "metadata": {
        "id": "jAfswiFxHtiK"
      },
      "outputs": [],
      "source": [
        "from sklearn.model_selection import cross_val_score\n",
        "from sklearn.model_selection import KFold\n",
        "from sklearn import datasets\n",
        "from sklearn.model_selection import train_test_split"
      ]
    },
    {
      "cell_type": "code",
      "execution_count": 3,
      "metadata": {
        "id": "Fjcyg9f6HtiL"
      },
      "outputs": [],
      "source": [
        "from sklearn.model_selection import GridSearchCV"
      ]
    },
    {
      "cell_type": "markdown",
      "metadata": {
        "id": "eI0LOT9_HtiM"
      },
      "source": [
        "### Obtenção dos Dados mnist da Biblioteca Keras"
      ]
    },
    {
      "cell_type": "code",
      "execution_count": 4,
      "metadata": {
        "scrolled": true,
        "colab": {
          "base_uri": "https://localhost:8080/",
          "height": 350
        },
        "id": "hp6L5RKYHtiN",
        "outputId": "4545e371-e5ca-45b7-e27f-1d33b9ea4fe7"
      },
      "outputs": [
        {
          "output_type": "stream",
          "name": "stdout",
          "text": [
            "Downloading data from https://storage.googleapis.com/tensorflow/tf-keras-datasets/mnist.npz\n",
            "11493376/11490434 [==============================] - 0s 0us/step\n",
            "11501568/11490434 [==============================] - 0s 0us/step\n"
          ]
        },
        {
          "output_type": "execute_result",
          "data": {
            "text/plain": [
              "Text(0.5, 1.0, '0')"
            ]
          },
          "metadata": {},
          "execution_count": 4
        },
        {
          "output_type": "display_data",
          "data": {
            "image/png": "[encoded data removed]",
            "text/plain": [
              "<Figure size 432x288 with 1 Axes>"
            ]
          },
          "metadata": {
            "needs_background": "light"
          }
        }
      ],
      "source": [
        "# Obtenção dos dados e divisão automática entre treinamento e teste\n",
        "(X_treinamento, y_treinamento), (X_teste, y_teste) = mnist.load_data()\n",
        "# Visualização de imagens específicas\n",
        "plt.imshow(X_treinamento[21], cmap = 'gray')\n",
        "plt.title(y_treinamento[21])"
      ]
    },
    {
      "cell_type": "markdown",
      "metadata": {
        "id": "1xWPUmRLHtiP"
      },
      "source": [
        "### Mudando as Dimensões dos Dados. Como as Imagens possuem 28x28, teremos um arrray com 784."
      ]
    },
    {
      "cell_type": "code",
      "execution_count": 5,
      "metadata": {
        "id": "nld1B_RaHtiQ"
      },
      "outputs": [],
      "source": [
        "# Mudança de dimensão, originalmente está em 28x28 e precisamos 784\n",
        "X_treinamento = X_treinamento.reshape((len(X_treinamento), np.prod(X_treinamento.shape[1:])))\n",
        "X_teste = X_teste.reshape((len(X_teste), np.prod(X_teste.shape[1:])))"
      ]
    },
    {
      "cell_type": "markdown",
      "metadata": {
        "id": "9_pBpld7HtiS"
      },
      "source": [
        "### Problema: Os dados gerados automaticamente pela mnis.load_data() gera dados com 60000 para teste e 10000 para treino. Vamos tratar esse dado de forma a concatenar os dados para um split futuro."
      ]
    },
    {
      "cell_type": "code",
      "execution_count": 6,
      "metadata": {
        "colab": {
          "base_uri": "https://localhost:8080/"
        },
        "id": "0opDvIsNHtiT",
        "outputId": "935c970b-beeb-4655-9119-4ea03a4e0a51"
      },
      "outputs": [
        {
          "output_type": "execute_result",
          "data": {
            "text/plain": [
              "70000"
            ]
          },
          "metadata": {},
          "execution_count": 6
        }
      ],
      "source": [
        "X = np.concatenate((X_treinamento, X_teste) , axis = 0)\n",
        "len(X) #Juntando os Eixos X para a devida divisão de 30% para teste e 70 para treino."
      ]
    },
    {
      "cell_type": "code",
      "execution_count": 7,
      "metadata": {
        "scrolled": true,
        "colab": {
          "base_uri": "https://localhost:8080/"
        },
        "id": "Udk1iZOPHtiV",
        "outputId": "8b10d06c-51af-4c1b-e595-8e930da90d25"
      },
      "outputs": [
        {
          "output_type": "execute_result",
          "data": {
            "text/plain": [
              "70000"
            ]
          },
          "metadata": {},
          "execution_count": 7
        }
      ],
      "source": [
        "y = np.concatenate((y_treinamento, y_teste) , axis = 0)\n",
        "len(y) #Juntando os Eixos y para a devida divisão de 30% para teste e 70 para treino."
      ]
    },
    {
      "cell_type": "code",
      "execution_count": 8,
      "metadata": {
        "id": "N-EfkvliHtiV"
      },
      "outputs": [],
      "source": [
        "# Transformação dos dados para float para podermos normalizar os dados\n",
        "X = X.astype('float32')"
      ]
    },
    {
      "cell_type": "code",
      "execution_count": 9,
      "metadata": {
        "id": "f0mQbMDvHtiW"
      },
      "outputs": [],
      "source": [
        "# Normalização (255 é o valor máximo de um pixel)\n",
        "X /= 255"
      ]
    },
    {
      "cell_type": "code",
      "execution_count": 10,
      "metadata": {
        "colab": {
          "base_uri": "https://localhost:8080/"
        },
        "id": "5IBgi29xHtiW",
        "outputId": "26582b8b-b596-43ff-dd7c-e892d9c16f6a"
      },
      "outputs": [
        {
          "output_type": "execute_result",
          "data": {
            "text/plain": [
              "70000"
            ]
          },
          "metadata": {},
          "execution_count": 10
        }
      ],
      "source": [
        "# Transformação para o formato dummy (temos 10 classes)\n",
        "y = np_utils.to_categorical(y, 10)\n",
        "len(y)"
      ]
    },
    {
      "cell_type": "markdown",
      "metadata": {
        "id": "3_sKMUPBHtiX"
      },
      "source": [
        "## Divisão dos Dados em Treino (80%) e Teste (20%)."
      ]
    },
    {
      "cell_type": "code",
      "execution_count": 11,
      "metadata": {
        "id": "9jINNJCuHtiX"
      },
      "outputs": [],
      "source": [
        "# Divisão da base de dados entre treinamento e teste (20% para testar e 80% para treinar)\n",
        "X_treino, X_test, y_treino, y_test = train_test_split(X, y, test_size = 0.2, random_state = 0)"
      ]
    },
    {
      "cell_type": "markdown",
      "metadata": {
        "id": "ZwEa3R99HtiY"
      },
      "source": [
        "### Modelo para Classificação: Aplicando Cross Validation K=5"
      ]
    },
    {
      "cell_type": "code",
      "execution_count": 34,
      "metadata": {
        "id": "L9zNnCIvHtiY"
      },
      "outputs": [],
      "source": [
        "inputs = np.concatenate((X_treino, X_test), axis=0)\n",
        "targets = np.concatenate((y_treino, y_test), axis=0)"
      ]
    },
    {
      "cell_type": "code",
      "execution_count": 35,
      "metadata": {
        "colab": {
          "base_uri": "https://localhost:8080/"
        },
        "id": "4sWC8E1DHtiY",
        "outputId": "ccbfe1d7-929c-47d4-f5ff-18d95209c42a"
      },
      "outputs": [
        {
          "output_type": "stream",
          "name": "stdout",
          "text": [
            "------------------------------------------------------------------------\n",
            "Training for fold 1 ...\n",
            "Epoch 1/20\n",
            "1143/1143 - 3s - loss: 0.4924 - accuracy: 0.8478 - 3s/epoch - 3ms/step\n",
            "Epoch 2/20\n",
            "1143/1143 - 3s - loss: 0.2399 - accuracy: 0.9298 - 3s/epoch - 2ms/step\n",
            "Epoch 3/20\n",
            "1143/1143 - 3s - loss: 0.1944 - accuracy: 0.9447 - 3s/epoch - 2ms/step\n",
            "Epoch 4/20\n",
            "1143/1143 - 3s - loss: 0.1713 - accuracy: 0.9497 - 3s/epoch - 2ms/step\n",
            "Epoch 5/20\n",
            "1143/1143 - 3s - loss: 0.1540 - accuracy: 0.9553 - 3s/epoch - 2ms/step\n",
            "Epoch 6/20\n",
            "1143/1143 - 3s - loss: 0.1416 - accuracy: 0.9588 - 3s/epoch - 2ms/step\n",
            "Epoch 7/20\n",
            "1143/1143 - 3s - loss: 0.1329 - accuracy: 0.9617 - 3s/epoch - 2ms/step\n",
            "Epoch 8/20\n",
            "1143/1143 - 3s - loss: 0.1238 - accuracy: 0.9635 - 3s/epoch - 2ms/step\n",
            "Epoch 9/20\n",
            "1143/1143 - 3s - loss: 0.1185 - accuracy: 0.9649 - 3s/epoch - 2ms/step\n",
            "Epoch 10/20\n",
            "1143/1143 - 3s - loss: 0.1118 - accuracy: 0.9662 - 3s/epoch - 2ms/step\n",
            "Epoch 11/20\n",
            "1143/1143 - 3s - loss: 0.1089 - accuracy: 0.9681 - 3s/epoch - 2ms/step\n",
            "Epoch 12/20\n",
            "1143/1143 - 3s - loss: 0.1047 - accuracy: 0.9683 - 3s/epoch - 2ms/step\n",
            "Epoch 13/20\n",
            "1143/1143 - 3s - loss: 0.1008 - accuracy: 0.9695 - 3s/epoch - 2ms/step\n",
            "Epoch 14/20\n",
            "1143/1143 - 3s - loss: 0.0945 - accuracy: 0.9716 - 3s/epoch - 2ms/step\n",
            "Epoch 15/20\n",
            "1143/1143 - 3s - loss: 0.0926 - accuracy: 0.9712 - 3s/epoch - 2ms/step\n",
            "Epoch 16/20\n",
            "1143/1143 - 3s - loss: 0.0925 - accuracy: 0.9722 - 3s/epoch - 2ms/step\n",
            "Epoch 17/20\n",
            "1143/1143 - 3s - loss: 0.0857 - accuracy: 0.9738 - 3s/epoch - 2ms/step\n",
            "Epoch 18/20\n",
            "1143/1143 - 3s - loss: 0.0882 - accuracy: 0.9734 - 3s/epoch - 3ms/step\n",
            "Epoch 19/20\n",
            "1143/1143 - 3s - loss: 0.0853 - accuracy: 0.9736 - 3s/epoch - 3ms/step\n",
            "Epoch 20/20\n",
            "1143/1143 - 3s - loss: 0.0853 - accuracy: 0.9742 - 3s/epoch - 2ms/step\n",
            "Score for fold 1: loss of 0.09539784491062164; accuracy of 97.20714092254639%\n",
            "------------------------------------------------------------------------\n",
            "Training for fold 2 ...\n",
            "Epoch 1/20\n",
            "1143/1143 - 3s - loss: 0.4933 - accuracy: 0.8469 - 3s/epoch - 3ms/step\n",
            "Epoch 2/20\n",
            "1143/1143 - 3s - loss: 0.2402 - accuracy: 0.9312 - 3s/epoch - 3ms/step\n",
            "Epoch 3/20\n",
            "1143/1143 - 3s - loss: 0.1926 - accuracy: 0.9438 - 3s/epoch - 3ms/step\n",
            "Epoch 4/20\n",
            "1143/1143 - 3s - loss: 0.1708 - accuracy: 0.9508 - 3s/epoch - 2ms/step\n",
            "Epoch 5/20\n",
            "1143/1143 - 3s - loss: 0.1498 - accuracy: 0.9567 - 3s/epoch - 2ms/step\n",
            "Epoch 6/20\n",
            "1143/1143 - 3s - loss: 0.1400 - accuracy: 0.9595 - 3s/epoch - 2ms/step\n",
            "Epoch 7/20\n",
            "1143/1143 - 3s - loss: 0.1332 - accuracy: 0.9604 - 3s/epoch - 2ms/step\n",
            "Epoch 8/20\n",
            "1143/1143 - 3s - loss: 0.1237 - accuracy: 0.9625 - 3s/epoch - 2ms/step\n",
            "Epoch 9/20\n",
            "1143/1143 - 3s - loss: 0.1159 - accuracy: 0.9659 - 3s/epoch - 2ms/step\n",
            "Epoch 10/20\n",
            "1143/1143 - 3s - loss: 0.1138 - accuracy: 0.9663 - 3s/epoch - 2ms/step\n",
            "Epoch 11/20\n",
            "1143/1143 - 3s - loss: 0.1065 - accuracy: 0.9681 - 3s/epoch - 2ms/step\n",
            "Epoch 12/20\n",
            "1143/1143 - 3s - loss: 0.1060 - accuracy: 0.9681 - 3s/epoch - 3ms/step\n",
            "Epoch 13/20\n",
            "1143/1143 - 3s - loss: 0.0990 - accuracy: 0.9696 - 3s/epoch - 2ms/step\n",
            "Epoch 14/20\n",
            "1143/1143 - 3s - loss: 0.0987 - accuracy: 0.9699 - 3s/epoch - 2ms/step\n",
            "Epoch 15/20\n",
            "1143/1143 - 3s - loss: 0.0934 - accuracy: 0.9712 - 3s/epoch - 2ms/step\n",
            "Epoch 16/20\n",
            "1143/1143 - 3s - loss: 0.0922 - accuracy: 0.9717 - 3s/epoch - 2ms/step\n",
            "Epoch 17/20\n",
            "1143/1143 - 3s - loss: 0.0898 - accuracy: 0.9728 - 3s/epoch - 2ms/step\n",
            "Epoch 18/20\n",
            "1143/1143 - 3s - loss: 0.0907 - accuracy: 0.9727 - 3s/epoch - 2ms/step\n",
            "Epoch 19/20\n",
            "1143/1143 - 3s - loss: 0.0871 - accuracy: 0.9736 - 3s/epoch - 2ms/step\n",
            "Epoch 20/20\n",
            "1143/1143 - 3s - loss: 0.0830 - accuracy: 0.9746 - 3s/epoch - 2ms/step\n",
            "Score for fold 2: loss of 0.10278410464525223; accuracy of 97.15714454650879%\n",
            "------------------------------------------------------------------------\n",
            "Training for fold 3 ...\n",
            "Epoch 1/20\n",
            "1143/1143 - 3s - loss: 0.4862 - accuracy: 0.8538 - 3s/epoch - 3ms/step\n",
            "Epoch 2/20\n",
            "1143/1143 - 3s - loss: 0.2390 - accuracy: 0.9303 - 3s/epoch - 2ms/step\n",
            "Epoch 3/20\n",
            "1143/1143 - 3s - loss: 0.1899 - accuracy: 0.9458 - 3s/epoch - 2ms/step\n",
            "Epoch 4/20\n",
            "1143/1143 - 3s - loss: 0.1665 - accuracy: 0.9512 - 3s/epoch - 2ms/step\n",
            "Epoch 5/20\n",
            "1143/1143 - 3s - loss: 0.1514 - accuracy: 0.9558 - 3s/epoch - 2ms/step\n",
            "Epoch 6/20\n",
            "1143/1143 - 3s - loss: 0.1402 - accuracy: 0.9589 - 3s/epoch - 2ms/step\n",
            "Epoch 7/20\n",
            "1143/1143 - 3s - loss: 0.1319 - accuracy: 0.9610 - 3s/epoch - 2ms/step\n",
            "Epoch 8/20\n",
            "1143/1143 - 3s - loss: 0.1231 - accuracy: 0.9644 - 3s/epoch - 2ms/step\n",
            "Epoch 9/20\n",
            "1143/1143 - 3s - loss: 0.1168 - accuracy: 0.9652 - 3s/epoch - 2ms/step\n",
            "Epoch 10/20\n",
            "1143/1143 - 3s - loss: 0.1116 - accuracy: 0.9669 - 3s/epoch - 2ms/step\n",
            "Epoch 11/20\n",
            "1143/1143 - 3s - loss: 0.1075 - accuracy: 0.9675 - 3s/epoch - 2ms/step\n",
            "Epoch 12/20\n",
            "1143/1143 - 3s - loss: 0.1034 - accuracy: 0.9679 - 3s/epoch - 3ms/step\n",
            "Epoch 13/20\n",
            "1143/1143 - 3s - loss: 0.0977 - accuracy: 0.9699 - 3s/epoch - 2ms/step\n",
            "Epoch 14/20\n",
            "1143/1143 - 3s - loss: 0.0963 - accuracy: 0.9707 - 3s/epoch - 2ms/step\n",
            "Epoch 15/20\n",
            "1143/1143 - 3s - loss: 0.0931 - accuracy: 0.9719 - 3s/epoch - 2ms/step\n",
            "Epoch 16/20\n",
            "1143/1143 - 3s - loss: 0.0902 - accuracy: 0.9728 - 3s/epoch - 3ms/step\n",
            "Epoch 17/20\n",
            "1143/1143 - 3s - loss: 0.0885 - accuracy: 0.9730 - 3s/epoch - 2ms/step\n",
            "Epoch 18/20\n",
            "1143/1143 - 3s - loss: 0.0838 - accuracy: 0.9744 - 3s/epoch - 2ms/step\n",
            "Epoch 19/20\n",
            "1143/1143 - 3s - loss: 0.0862 - accuracy: 0.9739 - 3s/epoch - 3ms/step\n",
            "Epoch 20/20\n",
            "1143/1143 - 3s - loss: 0.0799 - accuracy: 0.9759 - 3s/epoch - 2ms/step\n",
            "Score for fold 3: loss of 0.10361146181821823; accuracy of 97.16428518295288%\n",
            "------------------------------------------------------------------------\n",
            "Training for fold 4 ...\n",
            "Epoch 1/20\n",
            "1143/1143 - 3s - loss: 0.4865 - accuracy: 0.8518 - 3s/epoch - 3ms/step\n",
            "Epoch 2/20\n",
            "1143/1143 - 3s - loss: 0.2392 - accuracy: 0.9307 - 3s/epoch - 2ms/step\n",
            "Epoch 3/20\n",
            "1143/1143 - 3s - loss: 0.1890 - accuracy: 0.9459 - 3s/epoch - 2ms/step\n",
            "Epoch 4/20\n",
            "1143/1143 - 3s - loss: 0.1666 - accuracy: 0.9521 - 3s/epoch - 2ms/step\n",
            "Epoch 5/20\n",
            "1143/1143 - 3s - loss: 0.1491 - accuracy: 0.9561 - 3s/epoch - 2ms/step\n",
            "Epoch 6/20\n",
            "1143/1143 - 3s - loss: 0.1390 - accuracy: 0.9598 - 3s/epoch - 2ms/step\n",
            "Epoch 7/20\n",
            "1143/1143 - 3s - loss: 0.1314 - accuracy: 0.9620 - 3s/epoch - 2ms/step\n",
            "Epoch 8/20\n",
            "1143/1143 - 3s - loss: 0.1240 - accuracy: 0.9638 - 3s/epoch - 2ms/step\n",
            "Epoch 9/20\n",
            "1143/1143 - 3s - loss: 0.1189 - accuracy: 0.9651 - 3s/epoch - 2ms/step\n",
            "Epoch 10/20\n",
            "1143/1143 - 4s - loss: 0.1118 - accuracy: 0.9676 - 4s/epoch - 4ms/step\n",
            "Epoch 11/20\n",
            "1143/1143 - 4s - loss: 0.1059 - accuracy: 0.9686 - 4s/epoch - 4ms/step\n",
            "Epoch 12/20\n",
            "1143/1143 - 4s - loss: 0.1034 - accuracy: 0.9696 - 4s/epoch - 3ms/step\n",
            "Epoch 13/20\n",
            "1143/1143 - 3s - loss: 0.1020 - accuracy: 0.9703 - 3s/epoch - 2ms/step\n",
            "Epoch 14/20\n",
            "1143/1143 - 3s - loss: 0.0991 - accuracy: 0.9708 - 3s/epoch - 3ms/step\n",
            "Epoch 15/20\n",
            "1143/1143 - 3s - loss: 0.0954 - accuracy: 0.9723 - 3s/epoch - 3ms/step\n",
            "Epoch 16/20\n",
            "1143/1143 - 3s - loss: 0.0920 - accuracy: 0.9729 - 3s/epoch - 2ms/step\n",
            "Epoch 17/20\n",
            "1143/1143 - 3s - loss: 0.0898 - accuracy: 0.9735 - 3s/epoch - 3ms/step\n",
            "Epoch 18/20\n",
            "1143/1143 - 3s - loss: 0.0884 - accuracy: 0.9736 - 3s/epoch - 2ms/step\n",
            "Epoch 19/20\n",
            "1143/1143 - 3s - loss: 0.0884 - accuracy: 0.9737 - 3s/epoch - 2ms/step\n",
            "Epoch 20/20\n",
            "1143/1143 - 3s - loss: 0.0843 - accuracy: 0.9747 - 3s/epoch - 2ms/step\n",
            "Score for fold 4: loss of 0.1022101640701294; accuracy of 96.98571562767029%\n",
            "------------------------------------------------------------------------\n",
            "Training for fold 5 ...\n",
            "Epoch 1/20\n",
            "1143/1143 - 3s - loss: 0.4826 - accuracy: 0.8529 - 3s/epoch - 3ms/step\n",
            "Epoch 2/20\n",
            "1143/1143 - 3s - loss: 0.2368 - accuracy: 0.9304 - 3s/epoch - 2ms/step\n",
            "Epoch 3/20\n",
            "1143/1143 - 3s - loss: 0.1920 - accuracy: 0.9447 - 3s/epoch - 2ms/step\n",
            "Epoch 4/20\n",
            "1143/1143 - 2s - loss: 0.1705 - accuracy: 0.9500 - 2s/epoch - 2ms/step\n",
            "Epoch 5/20\n",
            "1143/1143 - 3s - loss: 0.1513 - accuracy: 0.9555 - 3s/epoch - 2ms/step\n",
            "Epoch 6/20\n",
            "1143/1143 - 3s - loss: 0.1424 - accuracy: 0.9580 - 3s/epoch - 2ms/step\n",
            "Epoch 7/20\n",
            "1143/1143 - 3s - loss: 0.1320 - accuracy: 0.9602 - 3s/epoch - 2ms/step\n",
            "Epoch 8/20\n",
            "1143/1143 - 3s - loss: 0.1236 - accuracy: 0.9637 - 3s/epoch - 2ms/step\n",
            "Epoch 9/20\n",
            "1143/1143 - 3s - loss: 0.1169 - accuracy: 0.9654 - 3s/epoch - 2ms/step\n",
            "Epoch 10/20\n",
            "1143/1143 - 3s - loss: 0.1125 - accuracy: 0.9663 - 3s/epoch - 2ms/step\n",
            "Epoch 11/20\n",
            "1143/1143 - 3s - loss: 0.1066 - accuracy: 0.9674 - 3s/epoch - 2ms/step\n",
            "Epoch 12/20\n",
            "1143/1143 - 3s - loss: 0.1045 - accuracy: 0.9680 - 3s/epoch - 2ms/step\n",
            "Epoch 13/20\n",
            "1143/1143 - 3s - loss: 0.1012 - accuracy: 0.9690 - 3s/epoch - 2ms/step\n",
            "Epoch 14/20\n",
            "1143/1143 - 3s - loss: 0.1013 - accuracy: 0.9692 - 3s/epoch - 2ms/step\n",
            "Epoch 15/20\n",
            "1143/1143 - 3s - loss: 0.0954 - accuracy: 0.9705 - 3s/epoch - 2ms/step\n",
            "Epoch 16/20\n",
            "1143/1143 - 3s - loss: 0.0929 - accuracy: 0.9721 - 3s/epoch - 2ms/step\n",
            "Epoch 17/20\n",
            "1143/1143 - 3s - loss: 0.0921 - accuracy: 0.9715 - 3s/epoch - 2ms/step\n",
            "Epoch 18/20\n",
            "1143/1143 - 3s - loss: 0.0860 - accuracy: 0.9734 - 3s/epoch - 2ms/step\n",
            "Epoch 19/20\n",
            "1143/1143 - 3s - loss: 0.0876 - accuracy: 0.9731 - 3s/epoch - 2ms/step\n",
            "Epoch 20/20\n",
            "1143/1143 - 3s - loss: 0.0836 - accuracy: 0.9744 - 3s/epoch - 2ms/step\n",
            "Score for fold 5: loss of 0.09601113200187683; accuracy of 97.20714092254639%\n"
          ]
        }
      ],
      "source": [
        "# Define the K-fold Cross Validator\n",
        "kfold = KFold(n_splits=5, shuffle=True)\n",
        "\n",
        "# K-fold Cross Validation model evaluation\n",
        "fold_no = 1\n",
        "\n",
        "acc_per_fold = []\n",
        "loss_per_fold = []\n",
        "\n",
        "# K-fold Cross Validation model evaluation\n",
        "for train, test in kfold.split(inputs, targets):\n",
        "\n",
        "# Estrutura da rede neural: 784 - 64 - 64 - 64 - 10\n",
        "# Dropout é utilizado para zerar uma porcentagem dos neurônios, para evitar o overfitting\n",
        "    modelo = Sequential()\n",
        "    modelo.add(Dense(units = 64, activation = 'relu', input_dim = 784))\n",
        "    modelo.add(Dropout(0.2))\n",
        "    modelo.add(Dense(units = 64, activation = 'relu'))\n",
        "    modelo.add(Dropout(0.2))\n",
        "    modelo.add(Dense(units = 64, activation = 'relu'))\n",
        "    modelo.add(Dropout(0.2))\n",
        "    #camada de saida, softmax probabilidade\n",
        "    modelo.add(Dense(units = 10, activation = 'softmax'))\n",
        "\n",
        "    modelo.compile(optimizer = 'adam', loss = 'categorical_crossentropy',\n",
        "                   metrics = ['accuracy'])\n",
        "    \n",
        "    \n",
        "    # Generate a print\n",
        "    print('------------------------------------------------------------------------')\n",
        "    print(f'Training for fold {fold_no} ...')\n",
        "\n",
        "  # Fit data to model\n",
        "    history = modelo.fit(X_treino, y_treino,\n",
        "              batch_size=49,\n",
        "              epochs=20,\n",
        "              verbose=2)\n",
        "\n",
        "  # Generate generalization metrics\n",
        "    scores = modelo.evaluate(X_test, y_test, verbose=0)\n",
        "    print(f'Score for fold {fold_no}: {modelo.metrics_names[0]} of {scores[0]}; {modelo.metrics_names[1]} of {scores[1]*100}%')\n",
        "    acc_per_fold.append(scores[1] * 100)\n",
        "    loss_per_fold.append(scores[0])\n",
        "    \n",
        "  # Increase fold number\n",
        "    fold_no = fold_no + 1"
      ]
    },
    {
      "cell_type": "code",
      "execution_count": 36,
      "metadata": {
        "scrolled": true,
        "colab": {
          "base_uri": "https://localhost:8080/"
        },
        "id": "g0m4C1zgHtiZ",
        "outputId": "f8061217-81d5-41c3-8b31-9d541dabde7f"
      },
      "outputs": [
        {
          "output_type": "stream",
          "name": "stdout",
          "text": [
            "Model: \"sequential_19\"\n",
            "_________________________________________________________________\n",
            " Layer (type)                Output Shape              Param #   \n",
            "=================================================================\n",
            " dense_70 (Dense)            (None, 64)                50240     \n",
            "                                                                 \n",
            " dropout_51 (Dropout)        (None, 64)                0         \n",
            "                                                                 \n",
            " dense_71 (Dense)            (None, 64)                4160      \n",
            "                                                                 \n",
            " dropout_52 (Dropout)        (None, 64)                0         \n",
            "                                                                 \n",
            " dense_72 (Dense)            (None, 64)                4160      \n",
            "                                                                 \n",
            " dropout_53 (Dropout)        (None, 64)                0         \n",
            "                                                                 \n",
            " dense_73 (Dense)            (None, 10)                650       \n",
            "                                                                 \n",
            "=================================================================\n",
            "Total params: 59,210\n",
            "Trainable params: 59,210\n",
            "Non-trainable params: 0\n",
            "_________________________________________________________________\n"
          ]
        }
      ],
      "source": [
        "# Visualização da estrutura da rede neural\n",
        "modelo.summary()"
      ]
    },
    {
      "cell_type": "code",
      "execution_count": 37,
      "metadata": {
        "scrolled": true,
        "colab": {
          "base_uri": "https://localhost:8080/",
          "height": 282
        },
        "id": "9Lu9eUm6Htia",
        "outputId": "2af063c9-2e58-46df-81a9-02024d637042"
      },
      "outputs": [
        {
          "output_type": "execute_result",
          "data": {
            "text/plain": [
              "[<matplotlib.lines.Line2D at 0x7f5268752b50>]"
            ]
          },
          "metadata": {},
          "execution_count": 37
        },
        {
          "output_type": "display_data",
          "data": {
            "image/png": "[encoded data removed]",
            "text/plain": [
              "<Figure size 432x288 with 1 Axes>"
            ]
          },
          "metadata": {
            "needs_background": "light"
          }
        }
      ],
      "source": [
        "# Gráfico para visualizar os erros e accuracy\n",
        "history.history.keys()\n",
        "#evolução do erro, azul\n",
        "plt.plot(history.history['loss'])\n",
        "#performance da rede\n",
        "plt.plot(history.history['accuracy'])"
      ]
    },
    {
      "cell_type": "code",
      "execution_count": 38,
      "metadata": {
        "colab": {
          "base_uri": "https://localhost:8080/"
        },
        "id": "DmJ-iqgeHtia",
        "outputId": "1c94721a-abad-407b-c167-f829b09c41b6"
      },
      "outputs": [
        {
          "output_type": "execute_result",
          "data": {
            "text/plain": [
              "array([[9.9860805e-01, 8.6274738e-09, 5.6400127e-06, ..., 2.8974142e-07,\n",
              "        3.6083995e-06, 5.7073280e-06],\n",
              "       [6.5617164e-11, 9.2306855e-09, 2.5155240e-08, ..., 8.9290342e-07,\n",
              "        1.8114761e-09, 6.7585302e-06],\n",
              "       [5.9143308e-11, 9.9998689e-01, 1.2215039e-08, ..., 3.7591469e-06,\n",
              "        6.1017040e-06, 2.3366376e-06],\n",
              "       ...,\n",
              "       [8.9096119e-11, 2.0614224e-09, 2.3483520e-09, ..., 9.9999106e-01,\n",
              "        3.9672263e-12, 8.9810219e-06],\n",
              "       [2.0863568e-13, 4.5957973e-12, 4.4132450e-10, ..., 8.4639400e-11,\n",
              "        3.9138987e-12, 4.4252335e-09],\n",
              "       [1.2583938e-10, 2.0997616e-10, 5.2249414e-09, ..., 1.3636077e-13,\n",
              "        3.9142858e-09, 2.2612528e-13]], dtype=float32)"
            ]
          },
          "metadata": {},
          "execution_count": 38
        }
      ],
      "source": [
        "# Obtenção das previsões \n",
        "previsoes = modelo.predict(X_test)\n",
        "previsoes"
      ]
    },
    {
      "cell_type": "code",
      "execution_count": 39,
      "metadata": {
        "colab": {
          "base_uri": "https://localhost:8080/"
        },
        "id": "18r_Dm-GHtia",
        "outputId": "b426594c-a54d-454e-a874-951e1044d622"
      },
      "outputs": [
        {
          "output_type": "execute_result",
          "data": {
            "text/plain": [
              "array([[1373,    0,    2,    1,    0,    2,    7,    0,    2,    0],\n",
              "       [   0, 1560,    2,    3,    0,    0,    4,    2,    8,    1],\n",
              "       [   3,    3, 1415,    3,    4,    2,    1,    8,    3,    1],\n",
              "       [   1,    6,   25, 1360,    0,   30,    0,    6,    4,    3],\n",
              "       [   3,    1,    3,    1, 1311,    0,    8,    8,    0,   15],\n",
              "       [   1,    1,    3,    6,    0, 1200,    7,    1,    8,    4],\n",
              "       [   9,    0,    1,    0,    2,   11, 1362,    0,    2,    0],\n",
              "       [   1,    6,   16,    1,    4,    3,    0, 1418,    2,    7],\n",
              "       [  10,   18,    9,    6,    3,   10,    3,    0, 1302,    7],\n",
              "       [   4,    0,    0,    6,   15,    9,    0,   14,    5, 1308]])"
            ]
          },
          "metadata": {},
          "execution_count": 39
        }
      ],
      "source": [
        "# valor máximo (com a probabilidade maior por serem 10 saídas) e geração da matriz de confusão\n",
        "y_teste_matriz = [np.argmax(t) for t in y_test]\n",
        "y_previsoes_matriz = [np.argmax(t) for t in previsoes]\n",
        "confusao = confusion_matrix(y_teste_matriz, y_previsoes_matriz)\n",
        "confusao"
      ]
    },
    {
      "cell_type": "code",
      "execution_count": 115,
      "metadata": {
        "colab": {
          "base_uri": "https://localhost:8080/",
          "height": 333
        },
        "id": "Bzznx983Htib",
        "outputId": "07e509fc-56dc-48f7-f1a9-7712a637539b"
      },
      "outputs": [
        {
          "output_type": "stream",
          "name": "stderr",
          "text": [
            "/usr/local/lib/python3.7/dist-packages/matplotlib/text.py:1165: FutureWarning: elementwise comparison failed; returning scalar instead, but in the future will perform elementwise comparison\n",
            "  if s != self._text:\n"
          ]
        },
        {
          "output_type": "execute_result",
          "data": {
            "text/plain": [
              "Text(0.5, 1.0, '[0. 0. 0. 0. 0. 1. 0. 0. 0. 0.]')"
            ]
          },
          "metadata": {},
          "execution_count": 115
        },
        {
          "output_type": "display_data",
          "data": {
            "image/png": "[encoded data removed]",
            "text/plain": [
              "<Figure size 432x288 with 1 Axes>"
            ]
          },
          "metadata": {
            "needs_background": "light"
          }
        }
      ],
      "source": [
        "# Previsão com um novo registro, convertendo o array para o formato de matriz\n",
        "#número 5\n",
        "y_treino[20]\n",
        "plt.imshow(np.reshape(X_treino[20], (28,28)), cmap = 'gray') #Imagem a ser Prevista\n",
        "plt.title(y_treino[20])\n"
      ]
    },
    {
      "cell_type": "code",
      "execution_count": 42,
      "metadata": {
        "colab": {
          "base_uri": "https://localhost:8080/"
        },
        "id": "HXVV8jXtHtib",
        "outputId": "868e043c-fee6-4f01-b4f6-7733db5932bf"
      },
      "outputs": [
        {
          "output_type": "execute_result",
          "data": {
            "text/plain": [
              "array([[0.        , 0.        , 0.        , 0.        , 0.        ,\n",
              "        0.        , 0.        , 0.        , 0.        , 0.        ,\n",
              "        0.        , 0.        , 0.        , 0.        , 0.        ,\n",
              "        0.        , 0.        , 0.        , 0.        , 0.        ,\n",
              "        0.        , 0.        , 0.        , 0.        , 0.        ,\n",
              "        0.        , 0.        , 0.        , 0.        , 0.        ,\n",
              "        0.        , 0.        , 0.        , 0.        , 0.        ,\n",
              "        0.        , 0.        , 0.        , 0.        , 0.        ,\n",
              "        0.        , 0.        , 0.        , 0.        , 0.        ,\n",
              "        0.        , 0.        , 0.        , 0.        , 0.        ,\n",
              "        0.        , 0.        , 0.        , 0.        , 0.        ,\n",
              "        0.        , 0.        , 0.        , 0.        , 0.        ,\n",
              "        0.        , 0.        , 0.        , 0.        , 0.        ,\n",
              "        0.        , 0.        , 0.        , 0.        , 0.        ,\n",
              "        0.        , 0.        , 0.        , 0.        , 0.        ,\n",
              "        0.        , 0.        , 0.        , 0.        , 0.        ,\n",
              "        0.        , 0.        , 0.        , 0.        , 0.        ,\n",
              "        0.        , 0.        , 0.        , 0.        , 0.        ,\n",
              "        0.        , 0.        , 0.        , 0.        , 0.        ,\n",
              "        0.        , 0.        , 0.        , 0.        , 0.        ,\n",
              "        0.        , 0.        , 0.        , 0.        , 0.        ,\n",
              "        0.        , 0.        , 0.        , 0.        , 0.        ,\n",
              "        0.        , 0.        , 0.        , 0.        , 0.        ,\n",
              "        0.        , 0.        , 0.        , 0.        , 0.        ,\n",
              "        0.        , 0.        , 0.        , 0.        , 0.        ,\n",
              "        0.        , 0.        , 0.        , 0.        , 0.        ,\n",
              "        0.        , 0.        , 0.        , 0.        , 0.        ,\n",
              "        0.        , 0.        , 0.        , 0.        , 0.        ,\n",
              "        0.        , 0.        , 0.        , 0.        , 0.        ,\n",
              "        0.        , 0.        , 0.        , 0.        , 0.        ,\n",
              "        0.        , 0.        , 0.        , 0.        , 0.        ,\n",
              "        0.        , 0.        , 0.        , 0.        , 0.        ,\n",
              "        0.        , 0.        , 0.        , 0.        , 0.        ,\n",
              "        0.        , 0.        , 0.        , 0.        , 0.        ,\n",
              "        0.        , 0.        , 0.        , 0.        , 0.        ,\n",
              "        0.        , 0.        , 0.        , 0.        , 0.        ,\n",
              "        0.        , 0.        , 0.        , 0.        , 0.        ,\n",
              "        0.        , 0.        , 0.        , 0.        , 0.        ,\n",
              "        0.        , 0.        , 0.        , 0.        , 0.        ,\n",
              "        0.        , 0.        , 0.        , 0.        , 0.        ,\n",
              "        0.        , 0.        , 0.        , 0.        , 0.        ,\n",
              "        0.        , 0.        , 0.        , 0.        , 0.        ,\n",
              "        0.        , 0.        , 0.05490196, 0.24705882, 0.5019608 ,\n",
              "        0.54901963, 0.827451  , 0.62352943, 0.5019608 , 0.08627451,\n",
              "        0.        , 0.        , 0.        , 0.        , 0.        ,\n",
              "        0.        , 0.        , 0.        , 0.        , 0.        ,\n",
              "        0.        , 0.        , 0.        , 0.        , 0.        ,\n",
              "        0.15686275, 0.654902  , 0.23529412, 0.        , 0.        ,\n",
              "        0.35686275, 0.99607843, 0.99215686, 0.99215686, 0.99215686,\n",
              "        0.99215686, 0.99607843, 0.87058824, 0.7294118 , 0.14509805,\n",
              "        0.        , 0.        , 0.        , 0.        , 0.        ,\n",
              "        0.        , 0.        , 0.        , 0.        , 0.        ,\n",
              "        0.        , 0.        , 0.18039216, 0.8117647 , 0.99607843,\n",
              "        0.52156866, 0.        , 0.18039216, 0.8117647 , 0.99607843,\n",
              "        0.99215686, 0.8117647 , 0.63529414, 0.63529414, 0.99607843,\n",
              "        0.99215686, 0.99215686, 0.972549  , 0.45882353, 0.        ,\n",
              "        0.        , 0.        , 0.        , 0.        , 0.        ,\n",
              "        0.        , 0.        , 0.        , 0.        , 0.        ,\n",
              "        0.78431374, 0.99607843, 1.        , 0.42745098, 0.        ,\n",
              "        0.32941177, 0.99607843, 0.91764706, 0.30588236, 0.        ,\n",
              "        0.        , 0.        , 0.        , 0.07843138, 0.53333336,\n",
              "        0.70980394, 0.8117647 , 0.        , 0.        , 0.        ,\n",
              "        0.        , 0.        , 0.        , 0.        , 0.        ,\n",
              "        0.        , 0.        , 0.21176471, 0.9764706 , 0.99215686,\n",
              "        0.6509804 , 0.03137255, 0.        , 0.00784314, 0.07058824,\n",
              "        0.05098039, 0.        , 0.        , 0.        , 0.        ,\n",
              "        0.        , 0.        , 0.        , 0.        , 0.02745098,\n",
              "        0.        , 0.        , 0.        , 0.        , 0.        ,\n",
              "        0.        , 0.        , 0.        , 0.        , 0.        ,\n",
              "        0.62352943, 0.99215686, 0.99215686, 0.23137255, 0.        ,\n",
              "        0.        , 0.        , 0.        , 0.        , 0.        ,\n",
              "        0.        , 0.        , 0.        , 0.        , 0.        ,\n",
              "        0.        , 0.        , 0.        , 0.        , 0.        ,\n",
              "        0.        , 0.        , 0.        , 0.        , 0.        ,\n",
              "        0.        , 0.        , 0.01568628, 0.7882353 , 0.99215686,\n",
              "        0.9647059 , 0.07843138, 0.        , 0.        , 0.        ,\n",
              "        0.        , 0.        , 0.        , 0.        , 0.        ,\n",
              "        0.        , 0.        , 0.        , 0.        , 0.        ,\n",
              "        0.        , 0.        , 0.        , 0.        , 0.        ,\n",
              "        0.        , 0.        , 0.        , 0.        , 0.        ,\n",
              "        0.13725491, 0.9411765 , 0.99215686, 0.8901961 , 0.38431373,\n",
              "        0.        , 0.        , 0.        , 0.        , 0.        ,\n",
              "        0.        , 0.        , 0.        , 0.        , 0.        ,\n",
              "        0.        , 0.        , 0.        , 0.        , 0.        ,\n",
              "        0.        , 0.        , 0.        , 0.        , 0.        ,\n",
              "        0.        , 0.        , 0.        , 0.        , 0.18039216,\n",
              "        0.75686276, 0.99607843, 1.        , 0.7921569 , 0.29411766,\n",
              "        0.        , 0.        , 0.        , 0.        , 0.        ,\n",
              "        0.        , 0.        , 0.        , 0.        , 0.        ,\n",
              "        0.        , 0.        , 0.        , 0.        , 0.        ,\n",
              "        0.        , 0.        , 0.        , 0.        , 0.        ,\n",
              "        0.        , 0.        , 0.        , 0.05490196, 0.627451  ,\n",
              "        0.99607843, 0.99215686, 0.8039216 , 0.12156863, 0.        ,\n",
              "        0.        , 0.        , 0.        , 0.        , 0.        ,\n",
              "        0.        , 0.        , 0.        , 0.        , 0.        ,\n",
              "        0.        , 0.        , 0.        , 0.        , 0.        ,\n",
              "        0.        , 0.        , 0.        , 0.        , 0.13333334,\n",
              "        0.02352941, 0.        , 0.05098039, 0.4745098 , 0.98039216,\n",
              "        0.99215686, 0.69411767, 0.        , 0.        , 0.        ,\n",
              "        0.        , 0.        , 0.        , 0.        , 0.        ,\n",
              "        0.        , 0.        , 0.        , 0.        , 0.        ,\n",
              "        0.        , 0.        , 0.        , 0.        , 0.        ,\n",
              "        0.        , 0.1254902 , 0.9529412 , 0.7607843 , 0.14901961,\n",
              "        0.07450981, 0.02745098, 0.5137255 , 0.99215686, 0.9490196 ,\n",
              "        0.12156863, 0.        , 0.        , 0.        , 0.        ,\n",
              "        0.        , 0.        , 0.        , 0.        , 0.        ,\n",
              "        0.        , 0.        , 0.        , 0.        , 0.        ,\n",
              "        0.        , 0.        , 0.        , 0.        , 0.5372549 ,\n",
              "        0.99215686, 0.99215686, 0.99215686, 0.99215686, 0.8117647 ,\n",
              "        0.87058824, 0.99215686, 0.99215686, 0.6627451 , 0.        ,\n",
              "        0.        , 0.        , 0.        , 0.        , 0.        ,\n",
              "        0.        , 0.        , 0.        , 0.        , 0.        ,\n",
              "        0.        , 0.        , 0.        , 0.        , 0.        ,\n",
              "        0.        , 0.        , 0.76862746, 0.99607843, 0.99607843,\n",
              "        0.99607843, 0.99607843, 1.        , 0.99607843, 0.99607843,\n",
              "        0.87058824, 0.45882353, 0.        , 0.        , 0.        ,\n",
              "        0.        , 0.        , 0.        , 0.        , 0.        ,\n",
              "        0.        , 0.        , 0.        , 0.        , 0.        ,\n",
              "        0.        , 0.        , 0.        , 0.        , 0.        ,\n",
              "        0.14901961, 0.9529412 , 0.99215686, 0.99215686, 0.99215686,\n",
              "        0.99607843, 0.99215686, 0.88235295, 0.31764707, 0.        ,\n",
              "        0.        , 0.        , 0.        , 0.        , 0.        ,\n",
              "        0.        , 0.        , 0.        , 0.        , 0.        ,\n",
              "        0.        , 0.        , 0.        , 0.        , 0.        ,\n",
              "        0.        , 0.        , 0.        , 0.        , 0.20784314,\n",
              "        0.67058825, 0.84705883, 0.5921569 , 0.49803922, 0.16470589,\n",
              "        0.07058824, 0.        , 0.        , 0.        , 0.        ,\n",
              "        0.        , 0.        , 0.        , 0.        , 0.        ,\n",
              "        0.        , 0.        , 0.        , 0.        , 0.        ,\n",
              "        0.        , 0.        , 0.        , 0.        , 0.        ,\n",
              "        0.        , 0.        , 0.        , 0.        , 0.        ,\n",
              "        0.        , 0.        , 0.        , 0.        , 0.        ,\n",
              "        0.        , 0.        , 0.        , 0.        , 0.        ,\n",
              "        0.        , 0.        , 0.        , 0.        , 0.        ,\n",
              "        0.        , 0.        , 0.        , 0.        , 0.        ,\n",
              "        0.        , 0.        , 0.        , 0.        , 0.        ,\n",
              "        0.        , 0.        , 0.        , 0.        , 0.        ,\n",
              "        0.        , 0.        , 0.        , 0.        , 0.        ,\n",
              "        0.        , 0.        , 0.        , 0.        , 0.        ,\n",
              "        0.        , 0.        , 0.        , 0.        , 0.        ,\n",
              "        0.        , 0.        , 0.        , 0.        , 0.        ,\n",
              "        0.        , 0.        , 0.        , 0.        , 0.        ,\n",
              "        0.        , 0.        , 0.        , 0.        , 0.        ,\n",
              "        0.        , 0.        , 0.        , 0.        , 0.        ,\n",
              "        0.        , 0.        , 0.        , 0.        , 0.        ,\n",
              "        0.        , 0.        , 0.        , 0.        , 0.        ,\n",
              "        0.        , 0.        , 0.        , 0.        , 0.        ,\n",
              "        0.        , 0.        , 0.        , 0.        , 0.        ,\n",
              "        0.        , 0.        , 0.        , 0.        , 0.        ,\n",
              "        0.        , 0.        , 0.        , 0.        , 0.        ,\n",
              "        0.        , 0.        , 0.        , 0.        , 0.        ,\n",
              "        0.        , 0.        , 0.        , 0.        , 0.        ,\n",
              "        0.        , 0.        , 0.        , 0.        , 0.        ,\n",
              "        0.        , 0.        , 0.        , 0.        , 0.        ,\n",
              "        0.        , 0.        , 0.        , 0.        , 0.        ,\n",
              "        0.        , 0.        , 0.        , 0.        , 0.        ,\n",
              "        0.        , 0.        , 0.        , 0.        ]], dtype=float32)"
            ]
          },
          "metadata": {},
          "execution_count": 42
        }
      ],
      "source": [
        "#passo a mesma posição para o modelo prever\n",
        "novo = X_treino[20]\n",
        "#de matriz para vetor\n",
        "novo = np.expand_dims(novo, axis = 0)\n",
        "novo"
      ]
    },
    {
      "cell_type": "code",
      "execution_count": 43,
      "metadata": {
        "colab": {
          "base_uri": "https://localhost:8080/"
        },
        "id": "3wK4KS0iHtic",
        "outputId": "60f7510b-6305-4051-83ba-fbeea15f6a47"
      },
      "outputs": [
        {
          "output_type": "stream",
          "name": "stdout",
          "text": [
            "O Valor Previsto é:   [5]\n"
          ]
        }
      ],
      "source": [
        "#previsao\n",
        "pred = modelo.predict(novo)\n",
        "#maior valor\n",
        "pred = [np.argmax(pred) for t in pred]\n",
        "print(\"O Valor Previsto é:  \", pred)"
      ]
    },
    {
      "cell_type": "code",
      "source": [
        "plt.imshow(np.reshape(novo, (28,28)), cmap = 'gray') #Imagem a ser Prevista\n",
        "plt.title(pred)"
      ],
      "metadata": {
        "colab": {
          "base_uri": "https://localhost:8080/",
          "height": 298
        },
        "id": "xqg_6foa9UGj",
        "outputId": "a44ffc0e-5084-4141-e132-1e80a6dc517b"
      },
      "execution_count": 122,
      "outputs": [
        {
          "output_type": "execute_result",
          "data": {
            "text/plain": [
              "Text(0.5, 1.0, '[5]')"
            ]
          },
          "metadata": {},
          "execution_count": 122
        },
        {
          "output_type": "display_data",
          "data": {
            "image/png": "[encoded data removed]",
            "text/plain": [
              "<Figure size 432x288 with 1 Axes>"
            ]
          },
          "metadata": {
            "needs_background": "light"
          }
        }
      ]
    },
    {
      "cell_type": "markdown",
      "metadata": {
        "id": "45rkLxgXHtic"
      },
      "source": [
        "## Utilização do Grid Search"
      ]
    },
    {
      "cell_type": "code",
      "execution_count": 18,
      "metadata": {
        "id": "CjiFucZaHtic"
      },
      "outputs": [],
      "source": [
        "from sklearn.model_selection import GridSearchCV\n",
        "from scikeras.wrappers import KerasClassifier"
      ]
    },
    {
      "cell_type": "code",
      "execution_count": 76,
      "metadata": {
        "colab": {
          "base_uri": "https://localhost:8080/"
        },
        "id": "kD4EQKCUHtic",
        "outputId": "73a72b66-fae9-453d-e806-dc913d09ac65"
      },
      "outputs": [
        {
          "output_type": "stream",
          "name": "stderr",
          "text": [
            "/usr/local/lib/python3.7/dist-packages/joblib/externals/loky/process_executor.py:705: UserWarning: A worker stopped while some jobs were given to the executor. This can be caused by a too short worker timeout or by a memory leak.\n",
            "  \"timeout or by a memory leak.\", UserWarning\n"
          ]
        },
        {
          "output_type": "stream",
          "name": "stdout",
          "text": [
            "1750/1750 [==============================] - 6s 3ms/step - loss: 0.2424 - accuracy: 0.9293\n",
            "Melhores Parâmetros:  0.955482142857143 {'model__dropout': 0, 'model__hidden_layer_sizes': (100,), 'optimizer__lr': 0.1}\n"
          ]
        }
      ],
      "source": [
        "# Function to create model, required for KerasClassifier\n",
        "def create_model(meta, hidden_layer_sizes, dropout):\n",
        "    n_features_in_ = meta[\"n_features_in_\"]\n",
        "    model = Sequential()\n",
        "    model.add(Input(shape=(n_features_in_,)))\n",
        "    for hidden_layer_size in hidden_layer_sizes:\n",
        "        model.add(Dense(hidden_layer_size, activation=\"relu\", input_dim = 784))\n",
        "        model.add(Dropout(dropout))\n",
        "        model.add(Dense(hidden_layer_size, activation=\"relu\"))\n",
        "        model.add(Dropout(dropout))\n",
        "    model.add(Dense(10, activation = 'softmax' ))\n",
        "    model.compile(optimizer = 'adam', loss = 'categorical_crossentropy',\n",
        "                   metrics = ['accuracy'])\n",
        "    \n",
        "    return model\n",
        "\n",
        "# Seed randomico para reprodutividade padronizada\n",
        "seed = 7\n",
        "np.random.seed(seed)\n",
        "\n",
        "# Criação do Modelo\n",
        "modelo_k = KerasClassifier(\n",
        "    model=create_model,\n",
        "    optimizer__lr=0.1,\n",
        "    model__hidden_layer_sizes=(100,),\n",
        "    model__dropout=0.5,\n",
        "    verbose=True,\n",
        ")\n",
        "\n",
        "# Definição dos Hiperparâmetros\n",
        "params = {\n",
        "    'optimizer__lr': [0.05, 0.1],\n",
        "    'model__hidden_layer_sizes': [(100, ), (50, 50, )],\n",
        "    'model__dropout': [0, 0.5],\n",
        "}\n",
        "\n",
        "grid = GridSearchCV(estimator=modelo_k, param_grid= params, n_jobs= -1, cv=5)\n",
        "grid_result = grid.fit(X_treino, y_treino)\n",
        "\n",
        "# Resultado\n",
        "print(\"Melhores Parâmetros: \" , grid_result.best_score_, grid_result.best_params_)"
      ]
    },
    {
      "cell_type": "markdown",
      "source": [
        "Execução do Modelo utilizando os melhores parâmentros"
      ],
      "metadata": {
        "id": "W7-96SfBaqq2"
      }
    },
    {
      "cell_type": "code",
      "execution_count": 77,
      "metadata": {
        "id": "gGTk_Wa4Htid"
      },
      "outputs": [],
      "source": [
        "# Função para criação do modelo. Necessário no Keras Classifier\n",
        "def create_model(meta, hidden_layer_sizes, dropout):\n",
        "    n_features_in_ = meta[\"n_features_in_\"]\n",
        "    model = Sequential()\n",
        "    model.add(Input(shape=(n_features_in_,)))\n",
        "    for hidden_layer_size in hidden_layer_sizes:\n",
        "        model.add(Dense(hidden_layer_size, activation=\"relu\", input_dim = 784))\n",
        "        model.add(Dropout(dropout))\n",
        "        model.add(Dense(hidden_layer_size, activation=\"relu\"))\n",
        "        model.add(Dropout(dropout))\n",
        "    model.add(Dense(10, activation = 'softmax' ))\n",
        "    model.compile(optimizer = 'adam', loss = 'categorical_crossentropy',\n",
        "                   metrics = ['accuracy'])\n",
        "    \n",
        "    return model\n",
        "\n",
        "\n",
        "# Modelo\n",
        "modelo_k = KerasClassifier(\n",
        "    model=create_model,\n",
        "    optimizer__lr=0.1,\n",
        "    model__hidden_layer_sizes=(100,),\n",
        "    model__dropout=0,\n",
        "    verbose=True,\n",
        ")\n"
      ]
    },
    {
      "cell_type": "markdown",
      "source": [
        "Modelo em Produção"
      ],
      "metadata": {
        "id": "eVqGe8lLwVeI"
      }
    },
    {
      "cell_type": "code",
      "source": [
        "modelo_param = modelo_k.fit(X_treino, y_treino,\n",
        "              batch_size=49,\n",
        "              epochs=20,\n",
        "              verbose=2)"
      ],
      "metadata": {
        "colab": {
          "base_uri": "https://localhost:8080/"
        },
        "id": "UZwEyqBNaXXk",
        "outputId": "9762449a-990b-4a36-c544-4ad26524406b"
      },
      "execution_count": 78,
      "outputs": [
        {
          "output_type": "stream",
          "name": "stdout",
          "text": [
            "Epoch 1/20\n",
            "1143/1143 - 3s - loss: 0.2726 - accuracy: 0.9198 - 3s/epoch - 3ms/step\n",
            "Epoch 2/20\n",
            "1143/1143 - 3s - loss: 0.1133 - accuracy: 0.9656 - 3s/epoch - 3ms/step\n",
            "Epoch 3/20\n",
            "1143/1143 - 3s - loss: 0.0795 - accuracy: 0.9754 - 3s/epoch - 3ms/step\n",
            "Epoch 4/20\n",
            "1143/1143 - 4s - loss: 0.0598 - accuracy: 0.9809 - 4s/epoch - 3ms/step\n",
            "Epoch 5/20\n",
            "1143/1143 - 3s - loss: 0.0467 - accuracy: 0.9851 - 3s/epoch - 3ms/step\n",
            "Epoch 6/20\n",
            "1143/1143 - 3s - loss: 0.0387 - accuracy: 0.9871 - 3s/epoch - 3ms/step\n",
            "Epoch 7/20\n",
            "1143/1143 - 3s - loss: 0.0334 - accuracy: 0.9892 - 3s/epoch - 3ms/step\n",
            "Epoch 8/20\n",
            "1143/1143 - 3s - loss: 0.0261 - accuracy: 0.9912 - 3s/epoch - 3ms/step\n",
            "Epoch 9/20\n",
            "1143/1143 - 3s - loss: 0.0210 - accuracy: 0.9929 - 3s/epoch - 3ms/step\n",
            "Epoch 10/20\n",
            "1143/1143 - 3s - loss: 0.0208 - accuracy: 0.9931 - 3s/epoch - 2ms/step\n",
            "Epoch 11/20\n",
            "1143/1143 - 3s - loss: 0.0172 - accuracy: 0.9943 - 3s/epoch - 2ms/step\n",
            "Epoch 12/20\n",
            "1143/1143 - 3s - loss: 0.0150 - accuracy: 0.9949 - 3s/epoch - 2ms/step\n",
            "Epoch 13/20\n",
            "1143/1143 - 3s - loss: 0.0132 - accuracy: 0.9952 - 3s/epoch - 2ms/step\n",
            "Epoch 14/20\n",
            "1143/1143 - 3s - loss: 0.0124 - accuracy: 0.9961 - 3s/epoch - 2ms/step\n",
            "Epoch 15/20\n",
            "1143/1143 - 3s - loss: 0.0136 - accuracy: 0.9956 - 3s/epoch - 2ms/step\n",
            "Epoch 16/20\n",
            "1143/1143 - 3s - loss: 0.0091 - accuracy: 0.9970 - 3s/epoch - 2ms/step\n",
            "Epoch 17/20\n",
            "1143/1143 - 3s - loss: 0.0111 - accuracy: 0.9962 - 3s/epoch - 2ms/step\n",
            "Epoch 18/20\n",
            "1143/1143 - 3s - loss: 0.0103 - accuracy: 0.9967 - 3s/epoch - 2ms/step\n",
            "Epoch 19/20\n",
            "1143/1143 - 3s - loss: 0.0096 - accuracy: 0.9966 - 3s/epoch - 3ms/step\n",
            "Epoch 20/20\n",
            "1143/1143 - 3s - loss: 0.0079 - accuracy: 0.9973 - 3s/epoch - 2ms/step\n"
          ]
        }
      ]
    },
    {
      "cell_type": "markdown",
      "source": [
        "Performance do Modelo de Forma Gráfica"
      ],
      "metadata": {
        "id": "10k7Y15rwIo9"
      }
    },
    {
      "cell_type": "code",
      "source": [
        "# Gráfico para visualizar os erros e accuracy\n",
        "modelo_param.history_.keys()\n",
        "#evolução do erro, azul\n",
        "plt.plot(modelo_param.history_['loss'])\n",
        "#performance da rede\n",
        "plt.plot(modelo_param.history_['accuracy'])"
      ],
      "metadata": {
        "colab": {
          "base_uri": "https://localhost:8080/",
          "height": 282
        },
        "id": "DANsxNIgaXuG",
        "outputId": "571bd566-74a8-4352-e3f6-2cb4bc30c70a"
      },
      "execution_count": 89,
      "outputs": [
        {
          "output_type": "execute_result",
          "data": {
            "text/plain": [
              "[<matplotlib.lines.Line2D at 0x7f525e623450>]"
            ]
          },
          "metadata": {},
          "execution_count": 89
        },
        {
          "output_type": "display_data",
          "data": {
            "image/png": "[encoded data removed]",
            "text/plain": [
              "<Figure size 432x288 with 1 Axes>"
            ]
          },
          "metadata": {
            "needs_background": "light"
          }
        }
      ]
    },
    {
      "cell_type": "markdown",
      "source": [
        "Realizando as Previsões"
      ],
      "metadata": {
        "id": "RWojsUr6wzqi"
      }
    },
    {
      "cell_type": "code",
      "source": [
        "prev_param = modelo_param.predict(X_test)\n",
        "prev_param"
      ],
      "metadata": {
        "colab": {
          "base_uri": "https://localhost:8080/"
        },
        "id": "5PFNuXdcaX9w",
        "outputId": "a5b645c9-25d7-4e98-d926-72d8f6736c2f"
      },
      "execution_count": 91,
      "outputs": [
        {
          "output_type": "stream",
          "name": "stdout",
          "text": [
            "438/438 [==============================] - 1s 1ms/step\n"
          ]
        },
        {
          "output_type": "execute_result",
          "data": {
            "text/plain": [
              "array([[1, 0, 0, ..., 0, 0, 0],\n",
              "       [0, 0, 0, ..., 0, 0, 0],\n",
              "       [0, 1, 0, ..., 0, 0, 0],\n",
              "       ...,\n",
              "       [0, 0, 0, ..., 1, 0, 0],\n",
              "       [0, 0, 0, ..., 0, 0, 0],\n",
              "       [0, 0, 0, ..., 0, 0, 0]])"
            ]
          },
          "metadata": {},
          "execution_count": 91
        }
      ]
    },
    {
      "cell_type": "markdown",
      "source": [
        "Matriz de Confusão do Modelo Melhor Parametrizado de acordo com o Grid Search"
      ],
      "metadata": {
        "id": "VjwFrfFexYTX"
      }
    },
    {
      "cell_type": "code",
      "source": [
        "y_teste_matriz_param = [np.argmax(t) for t in y_test]\n",
        "y_previsoes_matriz_param = [np.argmax(t) for t in previsoes]\n",
        "confusao_param = confusion_matrix(y_teste_matriz_param, y_previsoes_matriz_param)\n",
        "confusao_param"
      ],
      "metadata": {
        "colab": {
          "base_uri": "https://localhost:8080/"
        },
        "id": "B6P3z2KvxBhY",
        "outputId": "774a0712-3e7d-4356-ed22-9ad42e1019fe"
      },
      "execution_count": 92,
      "outputs": [
        {
          "output_type": "execute_result",
          "data": {
            "text/plain": [
              "array([[1373,    0,    2,    1,    0,    2,    7,    0,    2,    0],\n",
              "       [   0, 1560,    2,    3,    0,    0,    4,    2,    8,    1],\n",
              "       [   3,    3, 1415,    3,    4,    2,    1,    8,    3,    1],\n",
              "       [   1,    6,   25, 1360,    0,   30,    0,    6,    4,    3],\n",
              "       [   3,    1,    3,    1, 1311,    0,    8,    8,    0,   15],\n",
              "       [   1,    1,    3,    6,    0, 1200,    7,    1,    8,    4],\n",
              "       [   9,    0,    1,    0,    2,   11, 1362,    0,    2,    0],\n",
              "       [   1,    6,   16,    1,    4,    3,    0, 1418,    2,    7],\n",
              "       [  10,   18,    9,    6,    3,   10,    3,    0, 1302,    7],\n",
              "       [   4,    0,    0,    6,   15,    9,    0,   14,    5, 1308]])"
            ]
          },
          "metadata": {},
          "execution_count": 92
        }
      ]
    },
    {
      "cell_type": "markdown",
      "source": [
        "Para a previsão de um único digito utilizei o mesmo número do modelo criado anteriormente para comparação"
      ],
      "metadata": {
        "id": "6SiVmMCvxpS8"
      }
    },
    {
      "cell_type": "code",
      "source": [
        "# Previsão com um novo registro, convertendo o array para o formato de matriz\n",
        "#número 5\n",
        "y_treino[20]"
      ],
      "metadata": {
        "colab": {
          "base_uri": "https://localhost:8080/"
        },
        "id": "2gUmrtk0xkW2",
        "outputId": "9c5620f3-9280-43d6-fb48-1917bc0d0bea"
      },
      "execution_count": 93,
      "outputs": [
        {
          "output_type": "execute_result",
          "data": {
            "text/plain": [
              "array([0., 0., 0., 0., 0., 1., 0., 0., 0., 0.], dtype=float32)"
            ]
          },
          "metadata": {},
          "execution_count": 93
        }
      ]
    },
    {
      "cell_type": "code",
      "source": [
        "#passo a mesma posição para o modelo prever\n",
        "novo_param = X_treino[20]\n",
        "#de matriz para vetor\n",
        "novo_param = np.expand_dims(novo_param, axis = 0)\n",
        "novo_param\n",
        "\n",
        "plt.imshow(np.reshape(X_treino[20], (28,28)), cmap = 'gray') #Imagem a ser Prevista\n",
        "plt.title(y_treino[20])"
      ],
      "metadata": {
        "colab": {
          "base_uri": "https://localhost:8080/",
          "height": 333
        },
        "id": "xBmQrIIVyJj4",
        "outputId": "c634959d-edda-49b8-b6f8-7cca03bd2fcc"
      },
      "execution_count": 114,
      "outputs": [
        {
          "output_type": "stream",
          "name": "stderr",
          "text": [
            "/usr/local/lib/python3.7/dist-packages/matplotlib/text.py:1165: FutureWarning: elementwise comparison failed; returning scalar instead, but in the future will perform elementwise comparison\n",
            "  if s != self._text:\n"
          ]
        },
        {
          "output_type": "execute_result",
          "data": {
            "text/plain": [
              "Text(0.5, 1.0, '[0. 0. 0. 0. 0. 1. 0. 0. 0. 0.]')"
            ]
          },
          "metadata": {},
          "execution_count": 114
        },
        {
          "output_type": "display_data",
          "data": {
            "image/png": "[encoded data removed]",
            "text/plain": [
              "<Figure size 432x288 with 1 Axes>"
            ]
          },
          "metadata": {
            "needs_background": "light"
          }
        }
      ]
    },
    {
      "cell_type": "markdown",
      "source": [
        "Previsão do Numero 5"
      ],
      "metadata": {
        "id": "32HJqwrg5uz9"
      }
    },
    {
      "cell_type": "code",
      "source": [
        "#previsao\n",
        "pred_param = modelo_param.predict(novo_param)\n",
        "#maior valor\n",
        "pred_param = [np.argmax(pred_param) for r in pred_param]\n",
        "print(\"O Valor Previsto é:  \", pred_param)"
      ],
      "metadata": {
        "colab": {
          "base_uri": "https://localhost:8080/"
        },
        "id": "DTSMTZi7ziLY",
        "outputId": "642714fe-73d2-4bc0-8058-4d08a44ea169"
      },
      "execution_count": 104,
      "outputs": [
        {
          "output_type": "stream",
          "name": "stdout",
          "text": [
            "1/1 [==============================] - 0s 22ms/step\n",
            "O Valor Previsto é:   [5]\n"
          ]
        }
      ]
    },
    {
      "cell_type": "markdown",
      "source": [
        "Representação da Previsão do Número de Forma Gráfica"
      ],
      "metadata": {
        "id": "TUVe454C58W-"
      }
    },
    {
      "cell_type": "code",
      "source": [
        "cinco = np.reshape(novo_param, (28, 28)) #Fiz um reshape no array para poder imprimir a imagem\n",
        "plt.imshow(cinco, cmap = 'gray')\n",
        "plt.title(y_treino[20])"
      ],
      "metadata": {
        "colab": {
          "base_uri": "https://localhost:8080/",
          "height": 333
        },
        "id": "TP3co2xB3l8F",
        "outputId": "fda2b31d-4485-4a03-830f-0b378ae8cb66"
      },
      "execution_count": 110,
      "outputs": [
        {
          "output_type": "stream",
          "name": "stderr",
          "text": [
            "/usr/local/lib/python3.7/dist-packages/matplotlib/text.py:1165: FutureWarning: elementwise comparison failed; returning scalar instead, but in the future will perform elementwise comparison\n",
            "  if s != self._text:\n"
          ]
        },
        {
          "output_type": "execute_result",
          "data": {
            "text/plain": [
              "Text(0.5, 1.0, '[0. 0. 0. 0. 0. 1. 0. 0. 0. 0.]')"
            ]
          },
          "metadata": {},
          "execution_count": 110
        },
        {
          "output_type": "display_data",
          "data": {
            "image/png": "[encoded data removed]",
            "text/plain": [
              "<Figure size 432x288 with 1 Axes>"
            ]
          },
          "metadata": {
            "needs_background": "light"
          }
        }
      ]
    },
    {
      "cell_type": "markdown",
      "source": [
        "# PARTE 2"
      ],
      "metadata": {
        "id": "WcytagzC8otp"
      }
    },
    {
      "cell_type": "markdown",
      "source": [
        "A) Neste projeto foram usados dois modelos de classificação:\n",
        "\n",
        "O primeiro modelo obteve uma acurácia 97.21%. O segundo modelo obteve uma acurácia de 99,73%"
      ],
      "metadata": {
        "id": "asRUOoah8s99"
      }
    },
    {
      "cell_type": "markdown",
      "source": [
        "B) Sim. Ambos os modelos obtiveram performances satisfatórias como visto nos gráficos e nas matrizes de confusão. Com os dados de testes as previsões propostas forma bem sucedidas."
      ],
      "metadata": {
        "id": "e7KpPIwq8tAy"
      }
    },
    {
      "cell_type": "markdown",
      "source": [
        "C) Quando utilizado o Grid Search os Paramentros mais adequados de acordo com o moddelo foram:  {'model__dropout': 0, 'model__hidden_layer_sizes': (100,), 'optimizer__lr': 0.1}. No primeiro modelo com Cros Validation = 5, o último folder obteve melhor resultado, porém todos tiveram uma acurácia de mais de 96%. É importante Ressaltar que os paramêtros podem ser modificados, acrescentando-se ou removendo de acordo com cada caso. Para este propósito as performances foram satisfatórias. "
      ],
      "metadata": {
        "id": "SuPEwUmg8tDp"
      }
    },
    {
      "cell_type": "markdown",
      "source": [
        "D) O entendimento dos modelos em si foram os maiores gargalos. Uma vez compreendidos os parametros e qual importância cada um possui, fica mais fácil a aplicação e manipulação destes modelos."
      ],
      "metadata": {
        "id": "uPFEVQ9c8tI4"
      }
    },
    {
      "cell_type": "markdown",
      "source": [
        "# PARTE 3"
      ],
      "metadata": {
        "id": "n59FpYWw8tLv"
      }
    },
    {
      "cell_type": "markdown",
      "source": [
        "A) De acordo com minhas pesquisas um parâmetro de modelo é uma variável que possui uma configuração interna ao modelo em que os valores destes parâmetros podem ser estimados a partir dos dados inseridos neste modelo. Um bom exemplo de parâmetro de modelo são os pesos em uma rede neural artificial onde estes são gerados de forma algoritimica a medida que o modelo necessita ser melhorado. Outro exemplo seria o coeficiente de uma regressão linear ou logistica onde a inclinação da linha que traça os dados é obtida através dos próprios dados processados no modelo. Os hiperparâmetros são aqueles em geral, onde precisamos inserir manualmente (para facilitar o entendimento). No exemplo deste exercício os paramentros abaixo, podem ser considerados como hiperparâmetro:\n",
        "\n",
        "params = {\n",
        "    'optimizer__lr': [0.05, 0.1],\n",
        "    'model__hidden_layer_sizes': [(100, ), (50, 50, )],\n",
        "    'model__dropout': [0, 0.5],\n",
        "}\n",
        "\n",
        "Um algorítimo para busca de melhores hiperparâmetros são aqueles onde todas as possíveis parametrizações são testadas e aquela que possui melhor performance é retornada pelo algorítimo. "
      ],
      "metadata": {
        "id": "MTxV-vq2wb_b"
      }
    },
    {
      "cell_type": "markdown",
      "source": [
        "B) Acredito que 4 dos principais desafios são:\n",
        "\n",
        "1.   Tratar e entender os dados adequadamente;\n",
        "2.   Encontrar hiperparâmetros que se façam sentido para o problema em questão;\n",
        "3.   Entender os algorítimos de machine learning e deep learning;\n",
        "4.   Poder computacional que comporte um grande volume de dados como no caso do big data. \n",
        "\n",
        "\n"
      ],
      "metadata": {
        "id": "H_wEBrcZwcPZ"
      }
    },
    {
      "cell_type": "markdown",
      "source": [
        "C) Isso ocorre por conta da super ajuste do modelo ou sub ajuste. \n",
        "\n",
        "\n",
        "\n",
        "1.   Trabalhar com mais dados (volume);\n",
        "2.   Fazer uma divisão adequada entre treino e teste;\n",
        "3.   Buscar una técnica de cross validation para treinar os dados de forma mais homogenea possível.\n",
        "\n"
      ],
      "metadata": {
        "id": "RC9veRJkwcTJ"
      }
    },
    {
      "cell_type": "markdown",
      "source": [
        "D) O conjunto de teste é um conjunto novo de dados não inseridos e processados pelo modelo. O mesmo deve ser usado para testar a acurácia do modelo em situações gerais. A generalização do modelo é muito importante para que ele entre em produção e gere resultados satisfatórios."
      ],
      "metadata": {
        "id": "TO9ks9WWwcfp"
      }
    },
    {
      "cell_type": "markdown",
      "source": [
        "E) O conjunto de validação é usado para comparar diferentes modelos e hiperparametros. É muito comum nesses casos se utilizar o 'setseed' para que as amostrar estejam dentro de um padrão."
      ],
      "metadata": {
        "id": "IivrFRPI2pIt"
      }
    },
    {
      "cell_type": "markdown",
      "source": [
        "F) Pode ocorrer um super ajuste ao modelo de teste perdendo assim a generalização do modelo. Os dados de teste são dados fora do contexto do modelo e são uma forma de parametrização para uma boa generalização do modelo."
      ],
      "metadata": {
        "id": "q7jlRE1k2pcY"
      }
    }
  ],
  "metadata": {
    "jupytext": {
      "cell_metadata_filter": "-all",
      "main_language": "python",
      "notebook_metadata_filter": "-all"
    },
    "kernelspec": {
      "display_name": "Python 3",
      "language": "python",
      "name": "python3"
    },
    "language_info": {
      "codemirror_mode": {
        "name": "ipython",
        "version": 3
      },
      "file_extension": ".py",
      "mimetype": "text/x-python",
      "name": "python",
      "nbconvert_exporter": "python",
      "pygments_lexer": "ipython3",
      "version": "3.8.5"
    },
    "colab": {
      "name": "3.deep_learning.ipynb",
      "provenance": [],
      "collapsed_sections": [],
      "include_colab_link": true
    }
  },
  "nbformat": 4,
  "nbformat_minor": 0
}