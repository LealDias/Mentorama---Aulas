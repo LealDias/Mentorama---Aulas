{
 "cells": [
  {
   "cell_type": "markdown",
   "metadata": {},
   "source": [
    "## EXERCÍCIO 1"
   ]
  },
  {
   "cell_type": "code",
   "execution_count": 38,
   "metadata": {},
   "outputs": [
    {
     "data": {
      "text/plain": [
       "time.struct_time(tm_year=1970, tm_mon=1, tm_mday=1, tm_hour=0, tm_min=0, tm_sec=0, tm_wday=3, tm_yday=1, tm_isdst=0)"
      ]
     },
     "execution_count": 38,
     "metadata": {},
     "output_type": "execute_result"
    }
   ],
   "source": [
    "#a)\n",
    "\n",
    "import time\n",
    "\n",
    "time.localtime(0) #Epoca Padrão em struct_time\n",
    "time.gmtime(0) #Outra Opção\n"
   ]
  },
  {
   "cell_type": "code",
   "execution_count": 241,
   "metadata": {
    "scrolled": true
   },
   "outputs": [
    {
     "name": "stdout",
     "output_type": "stream",
     "text": [
      "Se passaram 1640543637.5899374 Segundos desde a Época Padrão"
     ]
    }
   ],
   "source": [
    "#b)\n",
    "\n",
    "seg = time.time()\n",
    "\n",
    "print(\"Se passaram\", seg , end=\" Segundos desde a Época Padrão\")"
   ]
  },
  {
   "cell_type": "code",
   "execution_count": 13,
   "metadata": {},
   "outputs": [
    {
     "name": "stdout",
     "output_type": "stream",
     "text": [
      "O Tempo atual é:  Sun Dec 26 12:19:31 2021\n"
     ]
    }
   ],
   "source": [
    "#c)\n",
    "\n",
    "atual = time.ctime()\n",
    "\n",
    "print(\"O Tempo atual é: \", atual)"
   ]
  },
  {
   "cell_type": "code",
   "execution_count": 30,
   "metadata": {},
   "outputs": [
    {
     "name": "stdout",
     "output_type": "stream",
     "text": [
      "Horas:  12\n",
      "Minutos:  27\n",
      "Segundos:  18\n"
     ]
    }
   ],
   "source": [
    "#d)\n",
    "\n",
    "local = time.localtime()\n",
    "\n",
    "#local[3:6]\n",
    "\n",
    "print(\"Horas: \", local[3])\n",
    "print(\"Minutos: \", local[4])\n",
    "print(\"Segundos: \", local[5])\n",
    "    "
   ]
  },
  {
   "cell_type": "code",
   "execution_count": 32,
   "metadata": {},
   "outputs": [
    {
     "name": "stdout",
     "output_type": "stream",
     "text": [
      "Não é horário de verão\n"
     ]
    }
   ],
   "source": [
    "#e)\n",
    "\n",
    "local[8] #Posição da struct_time = tm_isdst=0\n",
    "\n",
    "if local[8] == 0:\n",
    "    \n",
    "    print(\"Não é horário de verão\")\n",
    "    \n",
    "else:\n",
    "    \n",
    "    print(\"É horário de verão...\")\n"
   ]
  },
  {
   "cell_type": "markdown",
   "metadata": {},
   "source": [
    "## EXERCÍCIO 2"
   ]
  },
  {
   "cell_type": "code",
   "execution_count": 40,
   "metadata": {},
   "outputs": [
    {
     "name": "stdout",
     "output_type": "stream",
     "text": [
      "Olá, Mundo!!!\n",
      "Olá, Mundo!!!\n",
      "Olá, Mundo!!!\n",
      "Olá, Mundo!!!\n"
     ]
    }
   ],
   "source": [
    "for i in range(1,5):\n",
    "    \n",
    "    print(\"Olá, Mundo!!!\")\n",
    "    tm.sleep(3)\n",
    "    "
   ]
  },
  {
   "cell_type": "markdown",
   "metadata": {},
   "source": [
    "## EXERCÍCIO 3"
   ]
  },
  {
   "cell_type": "code",
   "execution_count": 52,
   "metadata": {},
   "outputs": [
    {
     "name": "stdout",
     "output_type": "stream",
     "text": [
      "Olá, Mundo!!!\n",
      "Olá, Mundo!!!\n",
      "Olá, Mundo!!!\n",
      "Olá, Mundo!!!\n",
      "A performance do Programa foi de:  12.023854494094849\n"
     ]
    }
   ],
   "source": [
    "inicio = time.time() #Usando a função time.time()\n",
    "\n",
    "for i in range(1,5):\n",
    "    \n",
    "    print(\"Olá, Mundo!!!\")\n",
    "    tm.sleep(3)\n",
    "    \n",
    "fim = time.time()\n",
    "\n",
    "print(\"A performance do Programa foi de: \",  fim - inicio)"
   ]
  },
  {
   "cell_type": "code",
   "execution_count": 240,
   "metadata": {},
   "outputs": [
    {
     "name": "stdout",
     "output_type": "stream",
     "text": [
      "Olá, Mundo!!!\n",
      "Olá, Mundo!!!\n",
      "Olá, Mundo!!!\n",
      "Olá, Mundo!!!\n",
      "A performance do Programa foi de:  12.034184399999504 Segundos\n"
     ]
    }
   ],
   "source": [
    "inicio = time.perf_counter() #Usando a função time.perf_counter()\n",
    "\n",
    "for i in range(1,5):\n",
    "    \n",
    "    print(\"Olá, Mundo!!!\")\n",
    "    tm.sleep(3)\n",
    "    \n",
    "fim = time.perf_counter()\n",
    "\n",
    "print(\"A performance do Programa foi de: \",  fim - inicio, \"Segundos\")"
   ]
  },
  {
   "cell_type": "markdown",
   "metadata": {},
   "source": [
    "## EXERCÍCIO 4"
   ]
  },
  {
   "cell_type": "code",
   "execution_count": 56,
   "metadata": {},
   "outputs": [],
   "source": [
    "import datetime as dt"
   ]
  },
  {
   "cell_type": "code",
   "execution_count": 67,
   "metadata": {},
   "outputs": [
    {
     "name": "stdout",
     "output_type": "stream",
     "text": [
      "1987-10-16\n",
      "1987-10-17\n",
      "1987-10-18\n",
      "1987-10-19\n",
      "1987-10-20\n",
      "1987-10-21\n",
      "1987-10-22\n",
      "1987-10-23\n",
      "1987-10-24\n",
      "1987-10-25\n"
     ]
    }
   ],
   "source": [
    "data_inicial = dt.date(1987,10,16)\n",
    "\n",
    "delta = dt.timedelta(days = 1) #Variação em 1 dia, ou passo de um dia\n",
    "\n",
    "data_final = data_inicial + 10*delta\n",
    "\n",
    "\n",
    "\n",
    "for i in range((data_final - data_inicial).days):\n",
    "    \n",
    "    print(data_inicial + i*delta)\n",
    "    "
   ]
  },
  {
   "cell_type": "markdown",
   "metadata": {},
   "source": [
    "## EXERCÍCIO 5"
   ]
  },
  {
   "cell_type": "code",
   "execution_count": 102,
   "metadata": {},
   "outputs": [
    {
     "name": "stdout",
     "output_type": "stream",
     "text": [
      "A data atual é: 2021-12-26 e a hora atual é: 13:34:22.415821\n"
     ]
    }
   ],
   "source": [
    "#a)\n",
    "\n",
    "atual = dt.datetime.now()\n",
    "#atual.date()\n",
    "#atual.time()\n",
    "\n",
    "print(\"A data atual é:\", atual.date(), end=\" e a hora atual é: \")\n",
    "print(atual.time())"
   ]
  },
  {
   "cell_type": "code",
   "execution_count": 120,
   "metadata": {},
   "outputs": [
    {
     "name": "stdout",
     "output_type": "stream",
     "text": [
      "Estamos no ano de  2021\n"
     ]
    }
   ],
   "source": [
    "#b)\n",
    "\n",
    "ano = atual.year\n",
    "\n",
    "print(\"Estamos no ano de \", ano)"
   ]
  },
  {
   "cell_type": "code",
   "execution_count": 122,
   "metadata": {},
   "outputs": [
    {
     "name": "stdout",
     "output_type": "stream",
     "text": [
      "Estamos no Mês de Número: 12\n"
     ]
    }
   ],
   "source": [
    "#c)\n",
    "\n",
    "mes = atual.month\n",
    "\n",
    "print(\"Estamos no Mês de Número:\", mes)"
   ]
  },
  {
   "cell_type": "code",
   "execution_count": 123,
   "metadata": {},
   "outputs": [
    {
     "name": "stdout",
     "output_type": "stream",
     "text": [
      "A semana do ano é a de Número:  51\n"
     ]
    }
   ],
   "source": [
    "#d)\n",
    "\n",
    "semana = atual.isocalendar()[1]\n",
    "print(\"A semana do ano é a de Número: \" , semana)"
   ]
  },
  {
   "cell_type": "code",
   "execution_count": 126,
   "metadata": {},
   "outputs": [
    {
     "name": "stdout",
     "output_type": "stream",
     "text": [
      "Estamos no dia 6 da Semana..."
     ]
    }
   ],
   "source": [
    "#e)\n",
    "\n",
    "dia_semana = atual.weekday()\n",
    "\n",
    "print(\"Estamos no dia\" , dia_semana, end=\" da Semana...\")"
   ]
  },
  {
   "cell_type": "code",
   "execution_count": 129,
   "metadata": {},
   "outputs": [
    {
     "name": "stdout",
     "output_type": "stream",
     "text": [
      "Estamos no dia de Número 360\n"
     ]
    }
   ],
   "source": [
    "#f)\n",
    "\n",
    "dia_do_ano = atual.timetuple().tm_yday\n",
    "\n",
    "print(\"Estamos no dia de Número\" , dia_do_ano)"
   ]
  },
  {
   "cell_type": "code",
   "execution_count": 132,
   "metadata": {},
   "outputs": [
    {
     "name": "stdout",
     "output_type": "stream",
     "text": [
      "Estamos no dia 26\n"
     ]
    }
   ],
   "source": [
    "#g)\n",
    "\n",
    "dia_do_mes = atual.day\n",
    "\n",
    "print(\"Estamos no dia\" , dia_do_mes)"
   ]
  },
  {
   "cell_type": "code",
   "execution_count": 138,
   "metadata": {},
   "outputs": [
    {
     "name": "stdout",
     "output_type": "stream",
     "text": [
      "Estamos no dia 7 da Semana...."
     ]
    }
   ],
   "source": [
    "#h)\n",
    "\n",
    "dia_da_semana = atual.isocalendar()[2]\n",
    "\n",
    "print(\"Estamos no dia\" , dia_da_semana , end=\" da Semana....\")"
   ]
  },
  {
   "cell_type": "markdown",
   "metadata": {},
   "source": [
    "## EXERCÍCIO 6"
   ]
  },
  {
   "cell_type": "code",
   "execution_count": 184,
   "metadata": {},
   "outputs": [
    {
     "name": "stdout",
     "output_type": "stream",
     "text": [
      "Resultado:  2021-01-01 13:53:00\n"
     ]
    }
   ],
   "source": [
    "exemplo = '01/01/2021 13:53:00' \n",
    "\n",
    "resultado = dt.datetime.strptime(exemplo, '%d/%m/%Y %H:%M:%S')\n",
    "\n",
    "print(\"Resultado: \" , resultado)"
   ]
  },
  {
   "cell_type": "markdown",
   "metadata": {},
   "source": [
    "## EXERCÍCIO 7"
   ]
  },
  {
   "cell_type": "code",
   "execution_count": 211,
   "metadata": {},
   "outputs": [
    {
     "name": "stdout",
     "output_type": "stream",
     "text": [
      "Data :   17/1/2021\n"
     ]
    }
   ],
   "source": [
    "data_atual = dt.date(2021,1,25)\n",
    "data_esperada =  data_atual - dt.timedelta(8)\n",
    "\n",
    "print(\"Data :  \", data_esperada.day ,end=\"/\")\n",
    "print(data_esperada.month, end = \"/\")\n",
    "print(data_esperada.year)"
   ]
  },
  {
   "cell_type": "markdown",
   "metadata": {},
   "source": [
    "## EXERCÍCIO 8"
   ]
  },
  {
   "cell_type": "code",
   "execution_count": 215,
   "metadata": {},
   "outputs": [
    {
     "name": "stdout",
     "output_type": "stream",
     "text": [
      "A diferença entre 1987-10-16 e 1987-10-26 é 10\n"
     ]
    }
   ],
   "source": [
    "dia_inicial = dt.datetime(2021,10,10).day\n",
    "dia_final = dt.datetime(2021,10,20).day\n",
    "\n",
    "diferenca = dia_final - dia_inicial\n",
    "\n",
    "print(\"A diferença entre\", data_inicial ,\"e\", data_final ,\"é\", diferenca)"
   ]
  },
  {
   "cell_type": "markdown",
   "metadata": {},
   "source": [
    "## EXERCÍCIO 9"
   ]
  },
  {
   "cell_type": "code",
   "execution_count": 239,
   "metadata": {},
   "outputs": [
    {
     "name": "stdout",
     "output_type": "stream",
     "text": [
      "Data Atual: 2021-12-26\n",
      "Antes de Ontem:  2021-12-24\n",
      "Depois de Amanhã:  2021-12-28\n",
      "Diferença:  5 Dias\n"
     ]
    }
   ],
   "source": [
    "delta_1 = dt.timedelta(2)\n",
    "antes_ontem = atual.date() - delta_1\n",
    "antes_ontem\n",
    "\n",
    "depois_amanha = atual.date() + delta_1\n",
    "depois_amanha\n",
    "\n",
    "diferenca_1 = depois_amanha.day - antes_ontem.day\n",
    "\n",
    "print(\"Data Atual:\" , atual.date())\n",
    "print(\"Antes de Ontem: \", antes_ontem)\n",
    "print(\"Depois de Amanhã: \", depois_amanha)\n",
    "print(\"Diferença: \" , diferenca_1 + 1, \"Dias\") #Inserido mais 1 pois a operação de diferença 'exclui' o dia de origem"
   ]
  },
  {
   "cell_type": "markdown",
   "metadata": {},
   "source": [
    "#### Autor: Diego Leal"
   ]
  }
 ],
 "metadata": {
  "kernelspec": {
   "display_name": "Python 3",
   "language": "python",
   "name": "python3"
  },
  "language_info": {
   "codemirror_mode": {
    "name": "ipython",
    "version": 3
   },
   "file_extension": ".py",
   "mimetype": "text/x-python",
   "name": "python",
   "nbconvert_exporter": "python",
   "pygments_lexer": "ipython3",
   "version": "3.8.5"
  }
 },
 "nbformat": 4,
 "nbformat_minor": 4
}
