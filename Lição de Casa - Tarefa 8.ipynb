{
 "cells": [
  {
   "cell_type": "markdown",
   "metadata": {},
   "source": [
    "### EXERCÍCIO 1"
   ]
  },
  {
   "cell_type": "code",
   "execution_count": 54,
   "metadata": {},
   "outputs": [],
   "source": [
    "#Iniciando as Bibliotecas\n",
    "\n",
    "import threading\n",
    "from threading import Thread\n",
    "import time as tm"
   ]
  },
  {
   "cell_type": "code",
   "execution_count": 47,
   "metadata": {},
   "outputs": [],
   "source": [
    "def func_1():\n",
    "    \n",
    "    return print(\"Processo 1\")\n",
    "    "
   ]
  },
  {
   "cell_type": "code",
   "execution_count": 61,
   "metadata": {},
   "outputs": [
    {
     "name": "stdout",
     "output_type": "stream",
     "text": [
      "Processo 1\n"
     ]
    }
   ],
   "source": [
    "#Inicializando a função através da thread t1\n",
    "\n",
    "#a)\n",
    "\n",
    "t1 = Thread(target = func_1)\n",
    "t1.start() #Tive que iniciar a instancia separadamente para não dar error 'None Type'"
   ]
  },
  {
   "cell_type": "code",
   "execution_count": 63,
   "metadata": {
    "scrolled": true
   },
   "outputs": [
    {
     "name": "stdout",
     "output_type": "stream",
     "text": [
      "Status da Thread:  False\n"
     ]
    }
   ],
   "source": [
    "#b)\n",
    "\n",
    "#t1.is_alive()\n",
    "\n",
    "print(\"Status da Thread: \", t1.is_alive())"
   ]
  },
  {
   "cell_type": "code",
   "execution_count": 83,
   "metadata": {},
   "outputs": [
    {
     "name": "stdout",
     "output_type": "stream",
     "text": [
      "Nome da Thread:  Thread-23\n"
     ]
    }
   ],
   "source": [
    "#c)  #Fiquei na dúvida sobre qual é o verdadeiro nome da Thread, por isso coloquei as duas opções abaixo\n",
    "\n",
    "\n",
    "#print(\"A Thread Ativa é: \" , threading.currentThread().getName()) #Thread com Nome Padrão\n",
    "#print(\"A Thread Ativa é: \" , threading.currentThread().getName(), 'Inicio') #Thread com Nomeação\n",
    "\n",
    "print(\"Nome da Thread: \" , Thread.getName(t1)) #Função para pegar o "
   ]
  },
  {
   "cell_type": "code",
   "execution_count": 93,
   "metadata": {},
   "outputs": [
    {
     "data": {
      "text/plain": [
       "25084"
      ]
     },
     "execution_count": 93,
     "metadata": {},
     "output_type": "execute_result"
    }
   ],
   "source": [
    "#d)\n",
    "\n",
    "threading.get_ident()\n"
   ]
  },
  {
   "cell_type": "code",
   "execution_count": 96,
   "metadata": {},
   "outputs": [
    {
     "data": {
      "text/plain": [
       "5"
      ]
     },
     "execution_count": 96,
     "metadata": {},
     "output_type": "execute_result"
    }
   ],
   "source": [
    "#e)\n",
    "\n",
    "threading.active_count()\n"
   ]
  },
  {
   "cell_type": "code",
   "execution_count": 97,
   "metadata": {},
   "outputs": [
    {
     "data": {
      "text/plain": [
       "[<_MainThread(MainThread, started 25084)>,\n",
       " <Thread(Thread-4, started daemon 30176)>,\n",
       " <Heartbeat(Thread-5, started daemon 51044)>,\n",
       " <HistorySavingThread(IPythonHistorySavingThread, started 61368)>,\n",
       " <ParentPollerWindows(Thread-3, started daemon 21464)>]"
      ]
     },
     "execution_count": 97,
     "metadata": {},
     "output_type": "execute_result"
    }
   ],
   "source": [
    "#f)\n",
    "\n",
    "threading.enumerate()\n"
   ]
  },
  {
   "cell_type": "markdown",
   "metadata": {},
   "source": [
    "### EXERCÍCIO 2"
   ]
  },
  {
   "cell_type": "code",
   "execution_count": 105,
   "metadata": {},
   "outputs": [],
   "source": [
    "def proc1():\n",
    "    \n",
    "    print(\"Processo 1\")\n",
    "    \n",
    "def proc2():\n",
    "    \n",
    "    print(\"Processo 2\")"
   ]
  },
  {
   "cell_type": "code",
   "execution_count": 106,
   "metadata": {},
   "outputs": [
    {
     "name": "stdout",
     "output_type": "stream",
     "text": [
      "Processo 2\n"
     ]
    }
   ],
   "source": [
    "proc2()"
   ]
  },
  {
   "cell_type": "code",
   "execution_count": 107,
   "metadata": {},
   "outputs": [
    {
     "name": "stdout",
     "output_type": "stream",
     "text": [
      "Processo 1\n"
     ]
    }
   ],
   "source": [
    "#a)\n",
    "\n",
    "t_1 = Thread(target = proc1)\n",
    "t_1.start()"
   ]
  },
  {
   "cell_type": "code",
   "execution_count": 108,
   "metadata": {},
   "outputs": [
    {
     "name": "stdout",
     "output_type": "stream",
     "text": [
      "Processo 2\n"
     ]
    }
   ],
   "source": [
    "t_2 = Thread(target = proc2)\n",
    "t_2.start()"
   ]
  },
  {
   "cell_type": "code",
   "execution_count": 111,
   "metadata": {},
   "outputs": [
    {
     "name": "stdout",
     "output_type": "stream",
     "text": [
      "Status da Thread T_1:  False\n",
      "Status da Thread T_2:  False\n"
     ]
    }
   ],
   "source": [
    "#b)\n",
    "\n",
    "print(\"Status da Thread T_1: \" , t_1.is_alive())\n",
    "print(\"Status da Thread T_2: \" , t_2.is_alive())"
   ]
  },
  {
   "cell_type": "code",
   "execution_count": 123,
   "metadata": {},
   "outputs": [],
   "source": [
    "#c)\n",
    "\n",
    "def proc1():\n",
    "    \n",
    "    \n",
    "    print(\"Processo 1\")\n",
    "    tm.sleep(5)\n",
    "    \n",
    "def proc2():\n",
    "    \n",
    "    print(\"Processo 2\")\n",
    "    tm.sleep(30)\n"
   ]
  },
  {
   "cell_type": "code",
   "execution_count": 127,
   "metadata": {
    "scrolled": true
   },
   "outputs": [
    {
     "name": "stdout",
     "output_type": "stream",
     "text": [
      "Processo 1\n"
     ]
    }
   ],
   "source": [
    "#d)\n",
    "\n",
    "t_1 = Thread(target = proc1)\n",
    "t_1.start()"
   ]
  },
  {
   "cell_type": "code",
   "execution_count": 128,
   "metadata": {},
   "outputs": [
    {
     "data": {
      "text/plain": [
       "True"
      ]
     },
     "execution_count": 128,
     "metadata": {},
     "output_type": "execute_result"
    }
   ],
   "source": [
    "t_1.is_alive()"
   ]
  },
  {
   "cell_type": "code",
   "execution_count": 129,
   "metadata": {},
   "outputs": [
    {
     "name": "stdout",
     "output_type": "stream",
     "text": [
      "Processo 2\n"
     ]
    }
   ],
   "source": [
    "t_2 = Thread(target = proc2)\n",
    "t_2.start()"
   ]
  },
  {
   "cell_type": "code",
   "execution_count": 130,
   "metadata": {},
   "outputs": [
    {
     "data": {
      "text/plain": [
       "True"
      ]
     },
     "execution_count": 130,
     "metadata": {},
     "output_type": "execute_result"
    }
   ],
   "source": [
    "t_2.is_alive()"
   ]
  },
  {
   "cell_type": "markdown",
   "metadata": {},
   "source": [
    "### EXERCÍCIO 3"
   ]
  },
  {
   "cell_type": "code",
   "execution_count": null,
   "metadata": {},
   "outputs": [],
   "source": [
    "# a) - O Problema do Produtor e Consumidor:\n",
    "\n",
    "# O problema do consumidor e produtor (que também pode ser conhecido como problema do buffer ilimitado), pode ser tido\n",
    "#como um aexemplo classico da questão de sincronização de processos. De forma mais prática e direta, digamos que o produtor\n",
    "#produz ou gera dados, então o armazena no buffer e então o consumidor consome estes dados que são produzidos. O problema\n",
    "#seria em garantir que o produtor não coloque dados no buffer quando este estiver cheio e que o consumidor não tente remover\n",
    "#estes dados quando o mesmo estiver vazio. Desta forma são criados alertas entre o produtor e consumidor, de forma a avisá-los\n",
    "#quando os processos estiverem prontos a serem executados. Com as threads podemos de forma independente executar linhas de \n",
    "#códigos que executem alguma função específica e ao terminar esta função entrega a uma outra função a responsabilidade de \n",
    "#coletar os dados, ou executar alguma outra função que seja dependente desta. Isso gera mais agilidade e automação nos\n",
    "#processos. \n"
   ]
  },
  {
   "cell_type": "code",
   "execution_count": null,
   "metadata": {},
   "outputs": [],
   "source": [
    "# b)\n",
    "\n",
    "#Um outro problema que pode ser resolvido com a programação paralela usando o conceito de threads é a de melhorar a performance\n",
    "#de tempo de alguns programas. Por exemplo se um programa que executa cálculos incializa as variáveis de forma paralela iniciando ao mesmo\n",
    "#tempo, teremos um ganho de tempo do tamanho da inicialização das variáveis. Ex: se temos que inicializar as variáveis a, b, c, d\n",
    "# de forma estruturada e supondo que cada uma leva 1 segundo para ser completa, teremos o total de 4 segundos para execução,\n",
    "#no entanto se inicializarmos as variáveis de forma concorrente com uso das threads, teremos as 4 variáveis sendo inicializadas\n",
    "#com um segundo de tempo. "
   ]
  },
  {
   "cell_type": "markdown",
   "metadata": {},
   "source": [
    "### EXERCÍCIO 4"
   ]
  },
  {
   "attachments": {
    "image.png": {
     "image/png": "[encoded data removed]"
    }
   },
   "cell_type": "markdown",
   "metadata": {},
   "source": [
    "# ![image.png](attachment:image.png)"
   ]
  },
  {
   "cell_type": "code",
   "execution_count": null,
   "metadata": {},
   "outputs": [],
   "source": [
    "#----------------------------------------------------Thread-----------------------------------------------------------# \n",
    "#Descrição: Representa uma atividade que roda de forma separada em um controle de thread.\n",
    "\n",
    "#Comando de Inicialização: Para inicializar devemos importar Thread da biblioteca threading e então devemos chamar o método\n",
    "#start() para iniciar a thread. Ex: t1 = Thread(função).start()"
   ]
  },
  {
   "cell_type": "code",
   "execution_count": 140,
   "metadata": {},
   "outputs": [],
   "source": [
    "#----------------------------------------------------Lock-----------------------------------------------------------# \n",
    "\n",
    "#Descrição: Objeto para sincronização e são considerados primitivos dentro do python. Dentro do lock temos as funções\n",
    "#aquire() e release() que negam ou permitem o acesso a determinada variável dentro de uma função por exemplo. São muito \n",
    "#uteis para evitar que os dados sejam corrompidos pois apenas podem ser acessados quando a função release() é chamada\n",
    "\n",
    "#Comando de Inicialização: trava= threading.Lock()\n",
    "                           #trava.acquire()\n",
    "                           #trava.release()"
   ]
  },
  {
   "cell_type": "code",
   "execution_count": null,
   "metadata": {},
   "outputs": [],
   "source": [
    "#----------------------------------------------------RLock-----------------------------------------------------------# \n",
    "\n",
    "#Descrição: Os bloqueios reentrantes permitem acesso a um bloqueio já mantido e evitam o bloqueio de um recurso compartilhado\n",
    "\n",
    "#Comando de Inicialização: trava= threading.RLock()\n",
    "                           #trava.acquire()\n",
    "                           #trava.release()"
   ]
  },
  {
   "cell_type": "code",
   "execution_count": null,
   "metadata": {},
   "outputs": [],
   "source": [
    "#----------------------------------------------------Condition-----------------------------------------------------------# \n",
    "\n",
    "#Descrição: São utilizadas com alguma função lock ou outras funções internas como wait(), notify() e outros. Ele cria uma\n",
    "#condição de forma que as threads executem de acordo com alguma variável dentro do sistema.\n",
    "\n",
    "#Comando de Inicialização: condicao = threading.Condition()"
   ]
  },
  {
   "cell_type": "code",
   "execution_count": null,
   "metadata": {},
   "outputs": [],
   "source": [
    "#----------------------------------------------------Event-----------------------------------------------------------# \n",
    "\n",
    "#Descrição: Usado como mecanismo de comunicação entre threads. Um thread sinaliza sobre um determinado evento e as outras\n",
    "#esperam por este evento. Existem outras sub-funções que podem ser utilizadas como: is_set(), set(), clear(), wait(),\n",
    "#dentre outras.\n",
    "\n",
    "#Comando de Inicialização: evento = threading.Event()"
   ]
  },
  {
   "cell_type": "code",
   "execution_count": null,
   "metadata": {},
   "outputs": [],
   "source": [
    "#----------------------------------------------------Semaphore-----------------------------------------------------------# \n",
    "\n",
    "#Descrição: Método de sincronizaçãoprimitiva que conta com um contador interno que utiliza o acquire\n",
    "#como decremento e o release como decremento. Estes recursos de contagem são compartilhados entre blocos.\n",
    "\n",
    "#Comando de Inicialização: threading.Semaphore()"
   ]
  },
  {
   "cell_type": "code",
   "execution_count": null,
   "metadata": {},
   "outputs": [],
   "source": [
    "#-------------------------------------------------Bounded Semaphore---------------------------------------------------# \n",
    "\n",
    "#Descrição: Verifica e garante que o valor atual não exceda o valor incial.\n",
    "\n",
    "#Comando de Inicialização: threading.BoundedSemaphore()"
   ]
  },
  {
   "cell_type": "code",
   "execution_count": null,
   "metadata": {},
   "outputs": [],
   "source": [
    "#----------------------------------------------------Timer-----------------------------------------------------------# \n",
    "\n",
    "#Descrição: Este objeto representa uma ação que deve acontecer após um determinado periodo de tempo. É importante lembrar\n",
    "#que o Timer deve ser inciado com start() e pode ser cancelado com o método cancel().\n",
    "\n",
    "#Comando de Inicialização: threading.Timer()"
   ]
  },
  {
   "cell_type": "code",
   "execution_count": null,
   "metadata": {},
   "outputs": [],
   "source": [
    "#----------------------------------------------------Barrier-----------------------------------------------------------# \n",
    "\n",
    "#Descrição: Esta classe permite a sincronização de um determinado número de threads que devem esperar uma pela outra.\n",
    "#Cada thread tenta passar a barreira chamando a função wait() e serão bloqueadas até que todas as threads (definidas) \n",
    "#estejam com a chamada do método wait() já executadas.\n",
    "\n",
    "#Comando de Inicialização: threading.Barrier() "
   ]
  },
  {
   "cell_type": "markdown",
   "metadata": {},
   "source": [
    "#### Autor: Diego Leal"
   ]
  }
 ],
 "metadata": {
  "celltoolbar": "Raw Cell Format",
  "kernelspec": {
   "display_name": "Python 3",
   "language": "python",
   "name": "python3"
  },
  "language_info": {
   "codemirror_mode": {
    "name": "ipython",
    "version": 3
   },
   "file_extension": ".py",
   "mimetype": "text/x-python",
   "name": "python",
   "nbconvert_exporter": "python",
   "pygments_lexer": "ipython3",
   "version": "3.8.5"
  }
 },
 "nbformat": 4,
 "nbformat_minor": 4
}
