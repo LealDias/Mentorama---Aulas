{
 "cells": [
  {
   "cell_type": "markdown",
   "metadata": {},
   "source": [
    "## EXERCÍCIO 1"
   ]
  },
  {
   "cell_type": "code",
   "execution_count": null,
   "metadata": {},
   "outputs": [],
   "source": [
    "#IP_arq = open('Lista_de_IP.txt', 'w+')\n",
    "\n",
    "lista_ip = ['200.135.80.9' , '192.168.1.1' , '8.35.64.74' , '257.32.4.5' , '85.345.1.2' , '1.2.3.4' , '9.8.234.5' , '192.168.0.256']\n",
    "lista_ip\n",
    "        "
   ]
  },
  {
   "cell_type": "code",
   "execution_count": null,
   "metadata": {},
   "outputs": [],
   "source": [
    "#IP_arq = open('Lista_de_IP.txt', 'a') #Incluir os IP's no Arquivo TXT\n",
    "\n",
    "#for ip in lista_ip:\n",
    "    \n",
    "    #print(ip)\n",
    "    #IP_arq.write(ip)\n",
    "    #IP_arq.write(\"\\n\")\n",
    "    \n",
    "        "
   ]
  },
  {
   "cell_type": "code",
   "execution_count": null,
   "metadata": {},
   "outputs": [],
   "source": [
    "#saida = open('IP_Saida.txt' , 'w+') #Inicializando o arquivo IP saída para a saída dos dados"
   ]
  },
  {
   "cell_type": "code",
   "execution_count": null,
   "metadata": {},
   "outputs": [],
   "source": [
    "#IP_arq = open('Lista_de_IP.txt' , 'r')\n",
    "#IP_arq.readlines()\n",
    "\n",
    "#valido = IP_arq.readlines() # Inicializando a variável valido com os dados do arquivo txt\n",
    "#valido\n"
   ]
  },
  {
   "cell_type": "code",
   "execution_count": null,
   "metadata": {},
   "outputs": [],
   "source": [
    "#saida = open('IP_Saida.txt', 'w') # Deixa os arquivos em Branco ou seja apaga\n",
    "#saida.write(\" \")"
   ]
  },
  {
   "cell_type": "code",
   "execution_count": null,
   "metadata": {
    "scrolled": true
   },
   "outputs": [],
   "source": [
    "saida = open('IP_Saida.txt', 'a')\n",
    "\n",
    "saida.write('--------------LISTA DE IPS VÁLIDO---------------')\n",
    "saida.write('\\n')\n",
    "\n",
    "ip_valido = ['200.135.80.9\\n' , '192.168.1.1\\n' , '8.35.64.74\\n' , '1.2.3.4\\n']\n",
    "ip_invalido = ['257.32.4.5\\n','85.345.1.2\\n','9.8.234.5\\n','192.168.0.256\\n']\n",
    "\n",
    "\n",
    "#---------------------------------------------------------------------------------------------------------#\n",
    "for i in valido:             #Adiciona IP's válidos\n",
    "    \n",
    "    if i in ip_valido:\n",
    "    \n",
    "        saida.write(i)\n",
    "        saida.write('\\n')\n",
    "    \n",
    "saida.write('-------------------------------------------------\\n')    \n",
    "    \n",
    "#---------------------------------------------------------------------------------------------------------#\n",
    "\n",
    "saida.write('--------------LISTA DE IPS INVÁLIDO---------------')\n",
    "saida.write('\\n')\n",
    "\n",
    "\n",
    "for e in valido:             #Adiciona IP's inválidos\n",
    "    \n",
    "    if e in ip_invalido:\n",
    "    \n",
    "        saida.write(e)\n",
    "        saida.write('\\n')\n",
    "    \n",
    "saida.write('--------------------------------------------------\\n')    \n",
    "    \n",
    "\n"
   ]
  },
  {
   "cell_type": "markdown",
   "metadata": {},
   "source": [
    "## EXERCÍCIO 2"
   ]
  },
  {
   "cell_type": "code",
   "execution_count": null,
   "metadata": {},
   "outputs": [],
   "source": [
    "#A) Erro de Sintaxe\n",
    "\n",
    "#Erros de sintaxe são erros na estrutura do código, ou seja, como o código é escrito.\n",
    "#Quando existem divergências no código criado com aquilo que foi originalmente estabelecido,\n",
    "#então teremos um retorno com um erro de sintaxe. Um exemplo simples é quando escrevemos a \n",
    "#função print() de forma errada (Print() por exemplo). Como a função original é tem em sua sintaxe\n",
    "#print escrito em minusculo, o erro acontecerá.\n",
    "\n",
    "\n",
    "\n",
    "#B) Erro de Tempo de Execução\n",
    "\n",
    "#Erros de tempo de execução ocorrem quando o programa está em execução e algum atributo ou função/procedimento\n",
    "#interno não são possíveis de serem executados. Um bom exemplo seria a recursão infinita que causa um erro de\n",
    "# 'recursão máxima excedida'\n",
    "\n",
    "\n",
    "\n",
    "#C) Erro Semântico\n",
    "\n",
    "#Erros de semântica, são erros de 'logica' por assim dizer. Geralmente o arquivo compila gerando um resultado inesperado\n",
    "#Nesses casos é importante verificar a lógica aplicada e as variáveis que são retornadas ou que estão sendo avaliadas,\n",
    "#pois as vezes alguns tipos de dados não permitem serem operados de determinada forma.\n",
    "\n",
    "\n",
    "#Nota: Tentei colocar com minhas palavras de acordo com alguns materiais estudados na internet.\n",
    "\n"
   ]
  },
  {
   "cell_type": "markdown",
   "metadata": {},
   "source": [
    "## EXERCÍCIO 3"
   ]
  },
  {
   "cell_type": "code",
   "execution_count": null,
   "metadata": {},
   "outputs": [],
   "source": [
    "# Exercício 1 do Modulo 1\n",
    "\n",
    "#Nesse Exemplo provoquei um NameError escrevendo a função print() de forma errada\n",
    "nome_completo = 'Diego Leal Dias Pena'\n",
    "Print(nome_completo)\n"
   ]
  },
  {
   "cell_type": "code",
   "execution_count": null,
   "metadata": {},
   "outputs": [],
   "source": [
    "try:\n",
    "    \n",
    "    nome_completo = 'Diego Leal Dias Pena'\n",
    "    prit(nome_completo)\n",
    "    \n",
    "except NameError:\n",
    "    \n",
    "    #print(\"Existe Algo Errado no Nome da Função...Tente Corrigir...\")\n",
    "        "
   ]
  },
  {
   "cell_type": "code",
   "execution_count": null,
   "metadata": {},
   "outputs": [],
   "source": [
    "#Nesse Exemplo provoquei um SyntaxError \n",
    "nome_completo = 'Diego Leal Dias Pena'\n",
    "print(\"Nome: \" nome_completo)"
   ]
  },
  {
   "cell_type": "code",
   "execution_count": null,
   "metadata": {},
   "outputs": [],
   "source": [
    "try:\n",
    " \n",
    "    nome_completo = 'Diego Leal Dias Pena'\n",
    "    print(\"Nome: \" nome_completo)\n",
    "    \n",
    "except SyntaxError:\n",
    "    \n",
    "    print(\"Erro de Sintaxe...Tente rever o código. Talvez o problema seja uma vírgula\")\n",
    "    \n",
    "else:\n",
    "    \n",
    "    print(\"...\")\n",
    "    \n",
    "finally:\n",
    "    \n",
    "     print(\"Saindo do Programa\")\n",
    "    "
   ]
  },
  {
   "cell_type": "code",
   "execution_count": null,
   "metadata": {},
   "outputs": [],
   "source": [
    "#Exercício 2 Modulo 1\n",
    "\n",
    "#Provoquei o Type Error\n",
    "\n",
    "a = '2'\n",
    "b = '5'\n",
    "\n",
    "print((5*a) * (3*b))"
   ]
  },
  {
   "cell_type": "code",
   "execution_count": null,
   "metadata": {},
   "outputs": [],
   "source": [
    "try:\n",
    "    \n",
    "    a = '2'\n",
    "    b = '5'\n",
    "\n",
    "    print((5*a) * (3*b))\n",
    "    \n",
    "except TypeError:\n",
    "    \n",
    "    print(\"Erro de Tipo Encontrado...Tente ver se as Variáveis são Calculáveis\")\n",
    "    \n",
    "else:\n",
    "    \n",
    "    print(\"Programa Sem Erros\")\n",
    "    \n",
    "finally:\n",
    "    \n",
    "    print(\"Fim do Programa\")"
   ]
  },
  {
   "cell_type": "code",
   "execution_count": 1,
   "metadata": {},
   "outputs": [
    {
     "ename": "NameError",
     "evalue": "name 'a' is not defined",
     "output_type": "error",
     "traceback": [
      "\u001b[1;31m---------------------------------------------------------------------------\u001b[0m",
      "\u001b[1;31mNameError\u001b[0m                                 Traceback (most recent call last)",
      "\u001b[1;32m<ipython-input-1-3b63b0f0701f>\u001b[0m in \u001b[0;36m<module>\u001b[1;34m\u001b[0m\n\u001b[0;32m      6\u001b[0m \u001b[0mc\u001b[0m \u001b[1;33m=\u001b[0m \u001b[1;36m5\u001b[0m\u001b[1;33m\u001b[0m\u001b[1;33m\u001b[0m\u001b[0m\n\u001b[0;32m      7\u001b[0m \u001b[1;33m\u001b[0m\u001b[0m\n\u001b[1;32m----> 8\u001b[1;33m \u001b[0mprint\u001b[0m\u001b[1;33m(\u001b[0m\u001b[0ma\u001b[0m \u001b[1;33m+\u001b[0m \u001b[0mb\u001b[0m \u001b[1;33m+\u001b[0m \u001b[0mc\u001b[0m\u001b[1;33m)\u001b[0m\u001b[1;33m\u001b[0m\u001b[1;33m\u001b[0m\u001b[0m\n\u001b[0m",
      "\u001b[1;31mNameError\u001b[0m: name 'a' is not defined"
     ]
    }
   ],
   "source": [
    "#Exercício 3 Modulo 1\n",
    "\n",
    "#Provoquei um name error\n",
    "\n",
    "d = 2\n",
    "b = 5\n",
    "c = 5\n",
    "\n",
    "print(a + b + c)"
   ]
  },
  {
   "cell_type": "code",
   "execution_count": 1,
   "metadata": {},
   "outputs": [
    {
     "name": "stdout",
     "output_type": "stream",
     "text": [
      "Uma das Variáveis Não foi Declarada...Revise o Código\n",
      "Fim da Execução\n"
     ]
    }
   ],
   "source": [
    "try:\n",
    "    \n",
    "    d = 2\n",
    "    b = 5\n",
    "    c = 5\n",
    "\n",
    "    print(a + b + c) \n",
    "    \n",
    "except NameError:\n",
    "    \n",
    "    print(\"Uma das Variáveis Não foi Declarada...Revise o Código\")\n",
    "    \n",
    "else:\n",
    "    \n",
    "    print(\"Programa Funcional\")\n",
    "    \n",
    "finally:\n",
    "    \n",
    "    print(\"Fim da Execução\")\n",
    "    "
   ]
  },
  {
   "cell_type": "code",
   "execution_count": 3,
   "metadata": {},
   "outputs": [
    {
     "name": "stdout",
     "output_type": "stream",
     "text": [
      "Digite o Primeiro Número: 2\n",
      "Digite o Segundo Número: 3\n",
      "Digite o Terceiro Número: 2\n",
      "Voltando ao Inicio...\n",
      "Qual Opeação Deseja Realizar?:\n",
      "    1 - Soma:\n",
      "    2 - Subtração\n",
      "    3 - Multiplicação\n",
      "    4 - Divisão\n",
      "    5 - Sair do Programa\n",
      "    Digite o Número da Escolha: Soma\n",
      "Digite Apenas Números...\n",
      "Qual Opeação Deseja Realizar?:\n",
      "    1 - Soma:\n",
      "    2 - Subtração\n",
      "    3 - Multiplicação\n",
      "    4 - Divisão\n",
      "    5 - Sair do Programa\n",
      "    Digite o Número da Escolha: 4\n",
      "Tudo OK...\n",
      "A Divisão entre 2 , 3 e 2 é 0.333333: \n"
     ]
    }
   ],
   "source": [
    "#Exercício 4 Modulo 1\n",
    "\n",
    "while True:\n",
    "\n",
    "    try:\n",
    "\n",
    "        num_1 = float(input(\"Digite o Primeiro Número: \"))\n",
    "        num_2 = float(input(\"Digite o Segundo Número: \"))\n",
    "        num_3 = float(input(\"Digite o Terceiro Número: \"))\n",
    "    \n",
    "    except ValueError:\n",
    "\n",
    "        print(\"Digite Apenas Números por Favor...\")\n",
    "        \n",
    "    else: \n",
    "        \n",
    "        break\n",
    "    \n",
    "    finally:\n",
    "        \n",
    "        print(\"Voltando ao Inicio...\")\n",
    "    \n",
    "    \n",
    "    \n",
    "\n",
    "while True:\n",
    "    \n",
    "    operacao = \"\"\n",
    "#-----------------------------------------------------------------------------------------------------#    \n",
    "    try:\n",
    "    \n",
    "        op = int(input(\"\"\"Qual Opeação Deseja Realizar?:\n",
    "    1 - Soma:\n",
    "    2 - Subtração\n",
    "    3 - Multiplicação\n",
    "    4 - Divisão\n",
    "    5 - Sair do Programa\n",
    "    Digite o Número da Escolha: \"\"\"))\n",
    "        \n",
    "    except ValueError:\n",
    "        \n",
    "        print(\"Digite Apenas Números...\")\n",
    "        \n",
    "        continue\n",
    "        \n",
    "    else:\n",
    "        \n",
    "        print(\"Tudo OK...Dados Válidos\")\n",
    "#-----------------------------------------------------------------------------------------------------#        \n",
    "    \n",
    "                \n",
    "    \n",
    "    if op == 1:\n",
    "\n",
    "        res = num_1 + num_2 + num_3\n",
    "        operacao = (\"soma\")\n",
    "        break\n",
    "\n",
    "    elif op == 2:\n",
    "\n",
    "        res = num_1 - num_2 - num_3\n",
    "        operacao = ('Subtração')\n",
    "        break\n",
    "\n",
    "    elif op == 3:\n",
    "\n",
    "        res = num_1 * num_2 * num_3\n",
    "        operacao = ('Multiplicação')\n",
    "        break\n",
    "\n",
    "    elif op == 4:\n",
    "\n",
    "        res = num_1 / num_2 / num_3\n",
    "        operacao = ('Divisão')\n",
    "        break\n",
    "\n",
    "    elif op == 5:\n",
    "\n",
    "        sys.exit(\"Saindo do Sistema...\")\n",
    "\n",
    "    elif op not in (1,2,3,4,5):\n",
    "\n",
    "        print(\"Opção Não Válida...Retornando ao Menu...\")\n",
    "        \n",
    "\n",
    "print('A %s entre %.0f , %.0f e %.0f é %f: ' % (operacao, num_1, num_2, num_3, res))"
   ]
  },
  {
   "cell_type": "code",
   "execution_count": 1,
   "metadata": {},
   "outputs": [
    {
     "ename": "NameError",
     "evalue": "name 'i' is not defined",
     "output_type": "error",
     "traceback": [
      "\u001b[1;31m---------------------------------------------------------------------------\u001b[0m",
      "\u001b[1;31mNameError\u001b[0m                                 Traceback (most recent call last)",
      "\u001b[1;32m<ipython-input-1-ae576819dfeb>\u001b[0m in \u001b[0;36m<module>\u001b[1;34m\u001b[0m\n\u001b[0;32m      2\u001b[0m \u001b[1;33m\u001b[0m\u001b[0m\n\u001b[0;32m      3\u001b[0m \u001b[1;32mfor\u001b[0m \u001b[0mj\u001b[0m \u001b[1;32min\u001b[0m \u001b[0mrange\u001b[0m\u001b[1;33m(\u001b[0m\u001b[1;36m1\u001b[0m\u001b[1;33m,\u001b[0m\u001b[1;36m11\u001b[0m\u001b[1;33m)\u001b[0m\u001b[1;33m:\u001b[0m\u001b[1;33m\u001b[0m\u001b[1;33m\u001b[0m\u001b[0m\n\u001b[1;32m----> 4\u001b[1;33m     \u001b[0mprint\u001b[0m\u001b[1;33m(\u001b[0m\u001b[1;34m\"Número\"\u001b[0m\u001b[1;33m,\u001b[0m \u001b[0mi\u001b[0m\u001b[1;33m)\u001b[0m\u001b[1;33m\u001b[0m\u001b[1;33m\u001b[0m\u001b[0m\n\u001b[0m",
      "\u001b[1;31mNameError\u001b[0m: name 'i' is not defined"
     ]
    }
   ],
   "source": [
    "#Exercício 5 Modulo 1\n",
    "\n",
    "#Provocando NameError\n",
    "\n",
    "for j in range(1,11):\n",
    "    print(\"Número\", i)"
   ]
  },
  {
   "cell_type": "code",
   "execution_count": 2,
   "metadata": {},
   "outputs": [
    {
     "name": "stdout",
     "output_type": "stream",
     "text": [
      "Erro no Nome do Objeto...Tente verificar as variáveis do seu código\n",
      "FIM\n"
     ]
    }
   ],
   "source": [
    "try:\n",
    "    \n",
    "    for j in range(1,11):\n",
    "        print(\"Número\", i)\n",
    "\n",
    "except NameError:\n",
    "    \n",
    "    print(\"Erro no Nome do Objeto...Tente verificar as variáveis do seu código\")\n",
    "    \n",
    "finally:\n",
    "    \n",
    "    print(\"FIM\")\n",
    "    "
   ]
  },
  {
   "cell_type": "code",
   "execution_count": 7,
   "metadata": {},
   "outputs": [
    {
     "name": "stdout",
     "output_type": "stream",
     "text": [
      "Erro de Tipo...Verifique se as Variáveis são do Mesmo Tipo...\n"
     ]
    }
   ],
   "source": [
    "#Exercício 6 Modulo 1\n",
    "\n",
    "\n",
    "i = '1'\n",
    "par = 0\n",
    "impar = 0\n",
    "cont_par = 0\n",
    "cont_impar= 0\n",
    "\n",
    "try:\n",
    "\n",
    "    while i <= 10:\n",
    "\n",
    "        if i % 2 == 0:\n",
    "\n",
    "            cont_par = sum([cont_par], 1)\n",
    "            par = sum([par], i)\n",
    "\n",
    "        elif i % 2 > 0:\n",
    "\n",
    "            cont_impar = sum([cont_impar], 1)\n",
    "            impar = sum([impar], i)\n",
    "\n",
    "        i = sum([i], 1)      \n",
    "\n",
    "    print(\"Temos %d pares e a soma entre eles é %d\" % (cont_par, par))\n",
    "    print(\"Temos %d impares e a soma entre eles é %d\" % (cont_impar, impar))\n",
    "    \n",
    "except TypeError:\n",
    "    \n",
    "    print(\"Erro de Tipo...Verifique se as Variáveis são do Mesmo Tipo...\")\n",
    "\n",
    "else:\n",
    "    \n",
    "    print(\"Dados Válidos\")\n",
    "\n",
    "\n"
   ]
  },
  {
   "cell_type": "code",
   "execution_count": 2,
   "metadata": {},
   "outputs": [
    {
     "name": "stdout",
     "output_type": "stream",
     "text": [
      "Erro de Nome...Verifique a Escrita das Variáveis...\n"
     ]
    }
   ],
   "source": [
    "par = 0\n",
    "impar = 0\n",
    "cont_par = 0\n",
    "cont_mpar= 0\n",
    "\n",
    "try:\n",
    "\n",
    "    for i in range(1,11):\n",
    "\n",
    "        if i % 2 == 0:\n",
    "\n",
    "            cont_par = sum([cont_par], 1)\n",
    "            par = sum([par], i)\n",
    "\n",
    "        elif i % 2 > 0:\n",
    "\n",
    "            cont_impar = sum([cont_impar], 1)\n",
    "            impar = sum([impar], i)\n",
    "\n",
    "    print(\"Temos %d pares e a soma entre eles é %d\" % (cont_par, par))\n",
    "    print(\"Temos %d impares e a soma entre eles é %d\" % (cont_impar, impar))\n",
    "    \n",
    "    \n",
    "except NameError:\n",
    "    \n",
    "    print(\"Erro de Nome...Verifique a Escrita das Variáveis...\")\n",
    "\n",
    "else:\n",
    "    \n",
    "    print(\"Dados Válidos\")\n",
    "    "
   ]
  },
  {
   "cell_type": "code",
   "execution_count": 2,
   "metadata": {},
   "outputs": [
    {
     "name": "stdout",
     "output_type": "stream",
     "text": [
      "Digite o Valor de A: d\n",
      "Apenas Números são Permitidos...Tente Novamente\n",
      "Fim do Programa\n"
     ]
    }
   ],
   "source": [
    "#Exercício 7 Modulo 1\n",
    "\n",
    "try:\n",
    "    \n",
    "    a = float(input(\"Digite o Valor de A: \"))\n",
    "    b = float(input(\"Digite o Valor de B: \"))\n",
    "    c = float(input(\"Digite o Valor de C: \"))\n",
    "\n",
    "    delta = (b**2)-(4*a*c)\n",
    "\n",
    "    x1 = -b+(delta**(0.5)) / (2*a)\n",
    "    x2 = -b-(delta**(0.5)) / (2*a)\n",
    "\n",
    "    print(\"O Valor de X1 é: \", format(x1, '.2f'))\n",
    "    print(\"O Valor de X2 é: \", format(x2, '.2f'))\n",
    "    \n",
    "except ValueError:\n",
    "    \n",
    "    print(\"Apenas Números são Permitidos...Tente Novamente\")\n",
    "    \n",
    "except ZeroDivisionError:\n",
    "    \n",
    "    print(\"Divisão de Números por Zero...Operação Inválida\")\n",
    "        \n",
    "finally:\n",
    "    \n",
    "    print(\"Fim do Programa\")\n"
   ]
  },
  {
   "cell_type": "code",
   "execution_count": 4,
   "metadata": {},
   "outputs": [
    {
     "name": "stdout",
     "output_type": "stream",
     "text": [
      "Digite o Valor de A: 0\n",
      "Digite o Valor de B: 0\n",
      "Digite o Valor de C: 0\n",
      "Divisão de Números por Zero...Operação Inválida\n",
      "Fim do Programa\n"
     ]
    }
   ],
   "source": [
    "import math\n",
    "\n",
    "try:\n",
    "    \n",
    "\n",
    "    a = float(input(\"Digite o Valor de A: \"))\n",
    "    b = float(input(\"Digite o Valor de B: \"))\n",
    "    c = float(input(\"Digite o Valor de C: \"))\n",
    "\n",
    "    delta = math.pow(b, 2)-(4*a*c)\n",
    "\n",
    "    x1 = -b+(math.sqrt(delta)) / (2*a)\n",
    "    x2 = -b-(math.sqrt(delta)) / (2*a)\n",
    "\n",
    "    print(\"O Valor de X1 é: \", format(x1, '.2f'))\n",
    "    print(\"O Valor de X2 é: \", format(x2, '.2f'))\n",
    "    \n",
    "except ValueError:\n",
    "    \n",
    "    print(\"Apenas Números são Permitidos...Tente Novamente\")\n",
    "    \n",
    "except ZeroDivisionError:\n",
    "    \n",
    "    print(\"Divisão de Números por Zero...Operação Inválida\")\n",
    "        \n",
    "finally:\n",
    "    \n",
    "    print(\"Fim do Programa\")    "
   ]
  },
  {
   "cell_type": "code",
   "execution_count": 1,
   "metadata": {
    "scrolled": true
   },
   "outputs": [
    {
     "name": "stdout",
     "output_type": "stream",
     "text": [
      "Digite o Valor de A: 6\n",
      "Digite o Valor de B: 4\n",
      "Digite o Valor de C: 5\n",
      "Alguma variável não foi definida corretamente...Revise o seu Código\n"
     ]
    }
   ],
   "source": [
    "#Exercício 8 Modulo 1\n",
    "import math\n",
    "\n",
    "def bhaskara(a,b,c):\n",
    "    \n",
    "    delta = math.pow(b, 2)-(4*a*c)\n",
    "\n",
    "    x1 = -b+(math.sqrt(delta)) / (2*a)\n",
    "    x2 = -b-(math.sqrt(delta)) / (2*a)\n",
    "\n",
    "    print(\"O Valor de X1 é: \", format(x1, '.2f'))\n",
    "    print(\"O Valor de X2 é: \", format(x2, '.2f'))\n",
    "    \n",
    "#-------------------------------------------------------------------------------------------------------------#    \n",
    "\n",
    "try:\n",
    "\n",
    "    d = float(input(\"Digite o Valor de A: \"))\n",
    "    b = float(input(\"Digite o Valor de B: \"))\n",
    "    c = float(input(\"Digite o Valor de C: \"))\n",
    "\n",
    "    bhaskara(a,b,c) #Chamada da Função\n",
    "    \n",
    "    \n",
    "except ValueError:\n",
    "    \n",
    "    print(\"Números fora do Domínio da Função Math...Tente Usar a Biblioteca para Números Complexos\")\n",
    "    \n",
    "except NameError:\n",
    "    \n",
    "    print(\"Alguma variável não foi definida corretamente...Revise o seu Código\")    \n",
    "\n",
    "    \n"
   ]
  },
  {
   "cell_type": "code",
   "execution_count": 6,
   "metadata": {},
   "outputs": [],
   "source": [
    "#Exercício 9 Modulo 1\n",
    "\n",
    "try:\n",
    "\n",
    "    s = 'Mentorama'\n",
    "    upper_case = s.upper() #Erro Proposital no Atributo .upper\n",
    "    \n",
    "except AttributeError:\n",
    "    \n",
    "    print(\"Erro de Atributo Identificado...Alguma função não está com seu Atributo Identificado Corretamente\")\n",
    "\n"
   ]
  },
  {
   "cell_type": "code",
   "execution_count": 4,
   "metadata": {},
   "outputs": [
    {
     "name": "stdout",
     "output_type": "stream",
     "text": [
      "Alguma variável não está escrita corretamente ou não foi Definida...Verifique as Variáveis\n"
     ]
    }
   ],
   "source": [
    "str = \" \"\n",
    "\n",
    "try:\n",
    "    \n",
    "    for i in upper_case:\n",
    "\n",
    "        str = i + str\n",
    "    print(str) \n",
    "    \n",
    "except NameError:\n",
    "    \n",
    "    print(\"Alguma variável não está escrita corretamente ou não foi Definida...Verifique as Variáveis\")"
   ]
  },
  {
   "cell_type": "code",
   "execution_count": 11,
   "metadata": {},
   "outputs": [
    {
     "name": "stdout",
     "output_type": "stream",
     "text": [
      "Alguma variável não está escrita corretamente ou não foi Definida...Verifique as Variáveis\n"
     ]
    }
   ],
   "source": [
    "\n",
    "try:\n",
    "    \n",
    "\n",
    "    str = \" \"\n",
    "    vogais = [1, 2, 3, 4, 5]\n",
    "\n",
    "    for i in upper_case:\n",
    "\n",
    "        if j in vogais:\n",
    "\n",
    "            str = i + str\n",
    "\n",
    "    print(str)\n",
    "    \n",
    "except NameError:\n",
    "    \n",
    "    print(\"Alguma variável não está escrita corretamente ou não foi Definida...Verifique as Variáveis\")\n",
    "    \n",
    "except TypeError:  \n",
    "    \n",
    "    print(\"Erro de Tipo. Verifique os Tipos das Variáveis\")\n",
    "    "
   ]
  },
  {
   "cell_type": "code",
   "execution_count": 8,
   "metadata": {},
   "outputs": [
    {
     "name": "stdout",
     "output_type": "stream",
     "text": [
      "Digite um Nome: 45\n",
      "Digite um Sobrenome: 45\n",
      "Digite a Idade: 45\n",
      "Digite a Cidade: 45\n",
      "Digite o DDD: 45\n",
      "Digite o Telefone: 45\n",
      "\n",
      "\n",
      "-------INFORMAÇÕES DO USUÁRIO-------\n",
      "Algum nome de variável foi digitado incorretamente...Verifique o seu código\n"
     ]
    }
   ],
   "source": [
    "#Exercício 9 Modulo 1\n",
    "\n",
    "try:\n",
    "\n",
    "    nome = str(input(\"Digite um Nome: \"))\n",
    "    sobre_nome = str(input(\"Digite um Sobrenome: \"))\n",
    "    idade = str(input(\"Digite a Idade: \"))\n",
    "    cidade = str(input(\"Digite a Cidade: \"))\n",
    "    ddd = str(input(\"Digite o DDD: \"))\n",
    "    tel = str(input(\"Digite o Telefone: \"))\n",
    "\n",
    "    print(\"\\n\")\n",
    "    print(\"-------INFORMAÇÕES DO USUÁRIO-------\")\n",
    "    print(\"Nome: \", nom + \" \" + sobre_nome)       # Erro Proposital na variável nome\n",
    "    print(\"Telefone: \", ddd + \" \" + tel)\n",
    "    print(\"Idade: \", idade)\n",
    "    print(\"Cidade: \", cidade)\n",
    "    print(\"------------------------------------\")\n",
    "    \n",
    "except NameError:\n",
    "    \n",
    "    print(\"Algum nome de variável foi digitado incorretamente...Verifique o seu código\")\n"
   ]
  },
  {
   "cell_type": "markdown",
   "metadata": {},
   "source": [
    "#### Autor: Diego Leal"
   ]
  },
  {
   "cell_type": "code",
   "execution_count": null,
   "metadata": {},
   "outputs": [],
   "source": []
  }
 ],
 "metadata": {
  "kernelspec": {
   "display_name": "Python 3",
   "language": "python",
   "name": "python3"
  },
  "language_info": {
   "codemirror_mode": {
    "name": "ipython",
    "version": 3
   },
   "file_extension": ".py",
   "mimetype": "text/x-python",
   "name": "python",
   "nbconvert_exporter": "python",
   "pygments_lexer": "ipython3",
   "version": "3.8.5"
  }
 },
 "nbformat": 4,
 "nbformat_minor": 4
}
