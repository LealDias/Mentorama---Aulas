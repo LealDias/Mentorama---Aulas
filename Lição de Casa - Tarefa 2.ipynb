{
 "cells": [
  {
   "cell_type": "markdown",
   "metadata": {},
   "source": [
    "## EXERCÍCIO 1"
   ]
  },
  {
   "cell_type": "code",
   "execution_count": 36,
   "metadata": {
    "scrolled": true
   },
   "outputs": [
    {
     "name": "stdout",
     "output_type": "stream",
     "text": [
      "Digite o Nome: Diego\n",
      "Digite o Sexo (F/M): M\n",
      "Digite a Idade: 31\n",
      "Deseja Continar? (Y/N): y\n",
      "Digite o Nome: Maria\n",
      "Digite o Sexo (F/M): F\n",
      "Digite a Idade: 28\n",
      "Deseja Continar? (Y/N): y\n",
      "Digite o Nome: Marta \n",
      "Digite o Sexo (F/M): F\n",
      "Digite a Idade: 45\n",
      "Deseja Continar? (Y/N): n\n",
      "Foram Cadastradas:  3\n",
      "Lista dos Cadastros das Mulheres:  [{'Nome': 'Maria', 'Sexo': 'F', 'Idade': 28}, {'Nome': 'Marta ', 'Sexo': 'F', 'Idade': 45}]\n",
      "Pessoas com Idade Acima da Média:  [{'Nome': 'Marta ', 'Sexo': 'F', 'Idade': 45}]\n"
     ]
    }
   ],
   "source": [
    "#Importação da Biblioteca statistics para a operação da média.\n",
    "\n",
    "from statistics import mean\n",
    "\n",
    "#-----------------------------------------------------------------------------------------------#\n",
    "\n",
    "lista = []\n",
    "#dic = {}\n",
    "res = \" \"\n",
    "\n",
    "while True:\n",
    "    \n",
    "    dic = {}\n",
    "    \n",
    "    nome = str(input(\"Digite o Nome: \"))\n",
    "    sexo = str(input(\"Digite o Sexo (F/M): \"))\n",
    "    idade = int(input(\"Digite a Idade: \"))\n",
    "    \n",
    "    dic[\"Nome\"] = nome\n",
    "    dic[\"Sexo\"] = sexo\n",
    "    dic[\"Idade\"] = idade\n",
    "    \n",
    "    lista.append(dic)\n",
    "    \n",
    "    res = str(input(\"Deseja Continar? (Y/N): \"))\n",
    "    \n",
    "    \n",
    "      \n",
    "    if res in \"Nn\":\n",
    "        \n",
    "        break \n",
    "        \n",
    "    else:\n",
    "        continue\n",
    "        \n",
    "#-----------------------------------------------------------------------------------------------#                 \n",
    "def ver_mulher(lista):\n",
    "    \n",
    "    lista_mulher = list()\n",
    "    \n",
    "    for i in lista:\n",
    "        \n",
    "        if i['Sexo'] in 'Ff':\n",
    "            \n",
    "            lista_mulher.append(i) \n",
    "            \n",
    "    return lista_mulher\n",
    "#-----------------------------------------------------------------------------------------------#\n",
    "\n",
    "def media_idade(lista):\n",
    "    \n",
    "    \n",
    "    lista_idade = list() \n",
    "    \n",
    "    for i in lista:\n",
    "         \n",
    "        lista_idade.append(i['Idade'])\n",
    "            \n",
    "    media = mean(lista_idade)\n",
    "    \n",
    "    return media   # Retorna a soma das idades     \n",
    "    \n",
    "#-----------------------------------------------------------------------------------------------# \n",
    "\n",
    "def acima_media(lista):\n",
    "    \n",
    "    sup_media = list()\n",
    "    \n",
    "    for i in lista:\n",
    "        \n",
    "        if i['Idade'] > media_idade(lista):\n",
    "            \n",
    "            sup_media.append(i)\n",
    "            \n",
    "    return sup_media        \n",
    "            \n",
    "    \n",
    "#-----------------------------------------------------------------------------------------------#     \n",
    "    \n",
    "print(\"Pessoas Cadastradas: \", len(lista))\n",
    "print(\"Lista dos Cadastros das Mulheres: \", ver_mulher(lista))\n",
    "print(\"Pessoas com Idade Acima da Média: \", acima_media(lista))\n",
    "    "
   ]
  },
  {
   "cell_type": "markdown",
   "metadata": {},
   "source": [
    "## EXERCÍCIO 2"
   ]
  },
  {
   "cell_type": "code",
   "execution_count": 1,
   "metadata": {},
   "outputs": [
    {
     "name": "stdout",
     "output_type": "stream",
     "text": [
      "1\n"
     ]
    }
   ],
   "source": [
    "tupla = 1,2,3,4\n",
    "\n",
    "print(tupla[0])"
   ]
  },
  {
   "cell_type": "markdown",
   "metadata": {},
   "source": [
    "## EXERCÍCIO 3"
   ]
  },
  {
   "cell_type": "code",
   "execution_count": 7,
   "metadata": {},
   "outputs": [
    {
     "name": "stdout",
     "output_type": "stream",
     "text": [
      "Tipo de aluno é: <class 'str'>\n",
      "Tipo de universidade é: <class 'str'>\n",
      "Tipo de nota é: <class 'str'>\n",
      "Tipo de resultado é: <class 'str'>\n"
     ]
    }
   ],
   "source": [
    "w,x,y,z = ('aluno', 'universidade', 'nota', 'resultado')\n",
    "\n",
    "t = w,x,y,z\n",
    "\n",
    "for i in t:\n",
    "    \n",
    "    print('Tipo de %s é:' %i, type(i))"
   ]
  },
  {
   "cell_type": "markdown",
   "metadata": {},
   "source": [
    "## EXERCÍCIO 4"
   ]
  },
  {
   "cell_type": "code",
   "execution_count": 10,
   "metadata": {},
   "outputs": [],
   "source": [
    "setx = set(['apple' , 'mango'])\n",
    "sety = set(['mango' , 'orange'])\n",
    "setz = set(['mango'])"
   ]
  },
  {
   "cell_type": "code",
   "execution_count": 12,
   "metadata": {},
   "outputs": [
    {
     "name": "stdout",
     "output_type": "stream",
     "text": [
      "A União dos Três Conjuntos é: {'mango', 'orange', 'apple'}\n"
     ]
    }
   ],
   "source": [
    "#a)\n",
    "\n",
    "res = setx | sety | setz\n",
    "\n",
    "print(\"A União dos Três Conjuntos é:\", res)"
   ]
  },
  {
   "cell_type": "code",
   "execution_count": 15,
   "metadata": {},
   "outputs": [
    {
     "name": "stdout",
     "output_type": "stream",
     "text": [
      "O elemento comum entre os Conjuntos X e Y é: {'mango'}\n"
     ]
    }
   ],
   "source": [
    "#b)\n",
    "\n",
    "comum = setx & sety\n",
    "\n",
    "print(\"O elemento comum entre os Conjuntos X e Y é:\", comum)"
   ]
  },
  {
   "cell_type": "code",
   "execution_count": 22,
   "metadata": {
    "scrolled": true
   },
   "outputs": [
    {
     "data": {
      "text/plain": [
       "False"
      ]
     },
     "execution_count": 22,
     "metadata": {},
     "output_type": "execute_result"
    }
   ],
   "source": [
    "#c)\n",
    "\n",
    "setx.issubset(sety)\n",
    "setx.issubset(setz)\n"
   ]
  },
  {
   "cell_type": "code",
   "execution_count": 24,
   "metadata": {},
   "outputs": [
    {
     "name": "stdout",
     "output_type": "stream",
     "text": [
      "O elemento que está em X mas não em Y é:  {'apple'}\n"
     ]
    }
   ],
   "source": [
    "#d)\n",
    "\n",
    "nao_existem = setx - sety\n",
    "\n",
    "print(\"O elemento que está em X mas não em Y é: \", nao_existem)\n"
   ]
  },
  {
   "cell_type": "markdown",
   "metadata": {},
   "source": [
    "## EXERCÍCIO 5"
   ]
  },
  {
   "cell_type": "code",
   "execution_count": 41,
   "metadata": {},
   "outputs": [
    {
     "data": {
      "text/plain": [
       "[('color4', 'Orange'),\n",
       " ('color1', 'Red'),\n",
       " ('color2', 'Green'),\n",
       " ('color3', 'Blue')]"
      ]
     },
     "execution_count": 41,
     "metadata": {},
     "output_type": "execute_result"
    }
   ],
   "source": [
    "dic_ord = ([('color1','Red') , ('color2','Green') , ('color3','Blue')])\n",
    "\n",
    "nova_cor = ('color4','Orange')\n",
    "\n",
    "dic_ord.insert(0, nova_cor) # Utilizando a função insert(posição, elemento a ser inserido)\n",
    "\n",
    "dic_ord"
   ]
  },
  {
   "cell_type": "markdown",
   "metadata": {},
   "source": [
    "## EXERCÍCIO 6"
   ]
  },
  {
   "cell_type": "code",
   "execution_count": 53,
   "metadata": {},
   "outputs": [
    {
     "name": "stdout",
     "output_type": "stream",
     "text": [
      "                                                                 monty"
     ]
    }
   ],
   "source": [
    "#----------------------------------------------------------------------------#\n",
    "def right_justify(s):\n",
    "    \n",
    "    print((70-len(s)) * \" \",end=s)\n",
    "#----------------------------------------------------------------------------#\n",
    "\n",
    "right_justify('monty')    #Chamada da Função"
   ]
  },
  {
   "cell_type": "markdown",
   "metadata": {},
   "source": [
    "## EXERCÍCIO 7"
   ]
  },
  {
   "cell_type": "code",
   "execution_count": 54,
   "metadata": {},
   "outputs": [
    {
     "name": "stdout",
     "output_type": "stream",
     "text": [
      "spam\n",
      "spam\n"
     ]
    }
   ],
   "source": [
    "#a)\n",
    "\n",
    "#----------------------------------------------------------------------------#\n",
    "\n",
    "def do_twice(f, valor):\n",
    "    \n",
    "    f()\n",
    "    f()\n",
    "    \n",
    "#----------------------------------------------------------------------------#\n",
    "\n",
    "def print_spam():\n",
    "    \n",
    "    print('spam')\n",
    "    \n",
    "#----------------------------------------------------------------------------#\n",
    "\n",
    "do_twice(print_spam) # Chamada da Função"
   ]
  },
  {
   "cell_type": "code",
   "execution_count": 71,
   "metadata": {},
   "outputs": [
    {
     "name": "stdout",
     "output_type": "stream",
     "text": [
      "spam\n",
      "spam\n",
      "3\n",
      "3\n"
     ]
    }
   ],
   "source": [
    "#b)\n",
    "\n",
    "#----------------------------------------------------------------------------#\n",
    "\n",
    "def do_twice(f, valor):\n",
    "    \n",
    "    f()\n",
    "    f()\n",
    "    print(valor)\n",
    "    print(valor)\n",
    "#----------------------------------------------------------------------------#\n",
    "\n",
    "def print_spam():\n",
    "    \n",
    "    print('spam')\n",
    "    \n",
    "#----------------------------------------------------------------------------#\n",
    "\n",
    "do_twice(print_spam, 3) # Chamada da Função"
   ]
  },
  {
   "cell_type": "markdown",
   "metadata": {},
   "source": [
    "## EXERCÍCIO 8"
   ]
  },
  {
   "cell_type": "code",
   "execution_count": 74,
   "metadata": {},
   "outputs": [],
   "source": [
    "#a)\n",
    "\n",
    "#----------------------------------------------------------------------------#\n",
    "def imprime_mensagem(msg):\n",
    "    \n",
    "    print(\"Mensagem digitada foi: \", msg)\n",
    "#----------------------------------------------------------------------------#    \n"
   ]
  },
  {
   "cell_type": "code",
   "execution_count": 75,
   "metadata": {},
   "outputs": [
    {
     "name": "stdout",
     "output_type": "stream",
     "text": [
      "Digite sua Mensagem: Função Mensagem\n",
      "MEnsagem digitada foi:  Função Mensagem\n"
     ]
    }
   ],
   "source": [
    "imprime_mensagem(msg = str(input('Digite sua Mensagem: '))) #Execução"
   ]
  },
  {
   "cell_type": "code",
   "execution_count": 79,
   "metadata": {},
   "outputs": [],
   "source": [
    "#b)\n",
    "\n",
    "#----------------------------------------------------------------------------#\n",
    "def multiplica_num(num_a, num_b):\n",
    "    \n",
    "    res = num_a * num_b\n",
    "    \n",
    "    print(\"O resultado da multiplicação é: \", res)\n",
    "    \n",
    "#----------------------------------------------------------------------------# \n"
   ]
  },
  {
   "cell_type": "code",
   "execution_count": 88,
   "metadata": {},
   "outputs": [
    {
     "name": "stdout",
     "output_type": "stream",
     "text": [
      "Digite o Primeiro Número: 4\n",
      "Digite o Segundo Número: 3\n",
      "O resultado da multiplicação é:  12\n"
     ]
    }
   ],
   "source": [
    "\n",
    "a = int(input(\"Digite o Primeiro Número: \")) # Execução \n",
    "b = int(input(\"Digite o Segundo Número: \"))\n",
    "\n",
    "multiplica_num(a,b) # Chamada da Função\n"
   ]
  },
  {
   "cell_type": "markdown",
   "metadata": {},
   "source": [
    "## EXERCÍCIO 9"
   ]
  },
  {
   "cell_type": "code",
   "execution_count": 4,
   "metadata": {},
   "outputs": [
    {
     "data": {
      "text/plain": [
       "['A', 1, 'E', 5, 'T', 7, 'W', 8, 'G']"
      ]
     },
     "execution_count": 4,
     "metadata": {},
     "output_type": "execute_result"
    }
   ],
   "source": [
    "lista_a = ['A', 1, 'E', 5, 'T', 7, 'W', 8, 'G']\n",
    "\n",
    "lista_a"
   ]
  },
  {
   "cell_type": "code",
   "execution_count": 13,
   "metadata": {},
   "outputs": [
    {
     "data": {
      "text/plain": [
       "['A', 'E', 'T', 'W', 'G', 8, 7, 5, 1]"
      ]
     },
     "execution_count": 13,
     "metadata": {},
     "output_type": "execute_result"
    }
   ],
   "source": [
    "#a)\n",
    "\n",
    "lista_ord = list()\n",
    "#----------------------------------------------------------------------------# Laço for para Varrer as Letras\n",
    "\n",
    "for i in lista_a:\n",
    "    \n",
    "    if type(i) is str:\n",
    "        \n",
    "        lista_ord.append(i)\n",
    "#----------------------------------------------------------------------------# \n",
    "\n",
    "tam = len(lista_ord)# tamanho da primeira lista com as letras para estabelecer\n",
    "                    #a próxima posição dos núemros inseridos\n",
    "\n",
    "#----------------------------------------------------------------------------# Laço for para Varrer os Números   \n",
    "\n",
    "for j in lista_a:  \n",
    "\n",
    "    if type(j) is int:\n",
    "       \n",
    "        lista_ord.insert(tam, j)\n",
    "        \n",
    "#----------------------------------------------------------------------------# \n",
    "\n",
    "lista_ord        \n",
    "        \n",
    "    \n",
    "    \n",
    "        "
   ]
  },
  {
   "cell_type": "code",
   "execution_count": 28,
   "metadata": {},
   "outputs": [
    {
     "name": "stdout",
     "output_type": "stream",
     "text": [
      "***** Verificação de Digitos *****\n",
      "\n",
      "A = Falso\n",
      "E = Falso\n",
      "T = Falso\n",
      "W = Falso\n",
      "G = Falso\n",
      "8 = Verdadeiro\n",
      "7 = Verdadeiro\n",
      "5 = Verdadeiro\n",
      "1 = Verdadeiro\n"
     ]
    }
   ],
   "source": [
    "#----------------------------------------------------------------------------# Verificação de Digitos da Lista\n",
    "\n",
    "def ehDigito(lista):\n",
    "    \n",
    "    print(5*'*' , \"Verificação de Digitos\", 5*'*')\n",
    "    print(\"\")\n",
    "    \n",
    "    for i in lista:\n",
    "        \n",
    "        if type(i) is int:\n",
    "            \n",
    "            print(\"%d = Verdadeiro\" %i)\n",
    "            \n",
    "        elif type(i) is str:\n",
    "            \n",
    "            print(\"%s = Falso\" %i)\n",
    "#----------------------------------------------------------------------------#                 \n",
    "    \n",
    "ehDigito(lista_ord)    #Execução e Chamada da Função\n",
    "\n",
    "#----------------------------------------------------------------------------# "
   ]
  },
  {
   "cell_type": "markdown",
   "metadata": {},
   "source": [
    "## Autor: Diego Leal Dias Pena"
   ]
  },
  {
   "cell_type": "code",
   "execution_count": null,
   "metadata": {},
   "outputs": [],
   "source": []
  }
 ],
 "metadata": {
  "kernelspec": {
   "display_name": "Python 3",
   "language": "python",
   "name": "python3"
  },
  "language_info": {
   "codemirror_mode": {
    "name": "ipython",
    "version": 3
   },
   "file_extension": ".py",
   "mimetype": "text/x-python",
   "name": "python",
   "nbconvert_exporter": "python",
   "pygments_lexer": "ipython3",
   "version": "3.8.5"
  }
 },
 "nbformat": 4,
 "nbformat_minor": 4
}
